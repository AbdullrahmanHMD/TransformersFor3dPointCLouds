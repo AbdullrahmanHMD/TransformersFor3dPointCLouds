{
 "cells": [
  {
   "cell_type": "code",
   "execution_count": 59,
   "id": "6ab0ffb7-fa11-4c47-8b94-dffb3830d4b5",
   "metadata": {},
   "outputs": [
    {
     "name": "stdout",
     "output_type": "stream",
     "text": [
      "The autoreload extension is already loaded. To reload it, use:\n",
      "  %reload_ext autoreload\n"
     ]
    }
   ],
   "source": [
    "%load_ext autoreload\n",
    "%autoreload 2"
   ]
  },
  {
   "cell_type": "code",
   "execution_count": 151,
   "id": "48711815-4f29-4545-94f5-47cafdb5a05e",
   "metadata": {},
   "outputs": [],
   "source": [
    "from data.dataset import ModelNet40, collate_fn\n",
    "import os\n",
    "import numpy as np\n",
    "\n",
    "from utils import *\n",
    "from model import *"
   ]
  },
  {
   "cell_type": "markdown",
   "id": "15d43bfa-37db-428d-a9ad-15ea909d7bb2",
   "metadata": {},
   "source": [
    "### Getting the dataset path"
   ]
  },
  {
   "cell_type": "code",
   "execution_count": 152,
   "id": "6b3409a3-efe8-4c99-ad0f-345bc7cea2b7",
   "metadata": {},
   "outputs": [
    {
     "name": "stdout",
     "output_type": "stream",
     "text": [
      "/scratch/users/ahamadeh18/COMP390/ModelNet40\n"
     ]
    }
   ],
   "source": [
    "os.chdir('..')\n",
    "modelnet40_path = os.path.join(os.getcwd(), 'ModelNet40')\n",
    "os.chdir('TransformersFor3dPointCLouds')\n",
    "print(modelnet40_path)"
   ]
  },
  {
   "cell_type": "markdown",
   "id": "178cd81a-25eb-4e62-a15c-aa8b69ec1e4a",
   "metadata": {},
   "source": [
    "### Initalizing the training set DataLoader object"
   ]
  },
  {
   "cell_type": "code",
   "execution_count": 153,
   "id": "41b698f0-07d2-474c-82fa-ed8405640c69",
   "metadata": {},
   "outputs": [],
   "source": [
    "SAMPLE_SIZE = 128\n",
    "TEST = False\n",
    "SAMPLING_METHOD = 'fps'"
   ]
  },
  {
   "cell_type": "code",
   "execution_count": 154,
   "id": "223c42c7-ad55-4e6e-bccf-9c24b7e2c6b1",
   "metadata": {},
   "outputs": [],
   "source": [
    "train_loader_256 = ModelNet40(dataset_path=modelnet40_path, test=TEST, sample_size=SAMPLE_SIZE, sampling=SAMPLING_METHOD)"
   ]
  },
  {
   "cell_type": "markdown",
   "id": "ff626054-1437-400c-81bf-ca6b0e45ef7f",
   "metadata": {},
   "source": [
    "### Creating the model"
   ]
  },
  {
   "cell_type": "code",
   "execution_count": 155,
   "id": "4f398ece-6412-4067-91d3-e1af0be889ee",
   "metadata": {},
   "outputs": [],
   "source": [
    "in_features = 3\n",
    "feature_dim = 128\n",
    "out_features = 1024\n",
    "k_size = 128\n",
    "NUM_CLASSES = 40"
   ]
  },
  {
   "cell_type": "code",
   "execution_count": 156,
   "id": "3a6ac2b7-2638-4d0c-9b79-aeee1856f169",
   "metadata": {},
   "outputs": [],
   "source": [
    "model = PointCloudClassifier(in_features, feature_dim, out_features, k_size, NUM_CLASSES)"
   ]
  },
  {
   "cell_type": "markdown",
   "id": "721c0392-b4a0-4a7d-85a7-e6978fd980af",
   "metadata": {},
   "source": [
    "## Training specifications:"
   ]
  },
  {
   "cell_type": "markdown",
   "id": "3c211066-6cff-4040-bdf5-583d3fcf67d7",
   "metadata": {},
   "source": [
    "### Optimizer:"
   ]
  },
  {
   "cell_type": "code",
   "execution_count": 157,
   "id": "713b4b28-d8d2-48b5-b00a-e1d67f186299",
   "metadata": {},
   "outputs": [],
   "source": [
    "from torch.optim import SGD\n",
    "from torch.optim.lr_scheduler import CosineAnnealingLR\n",
    "\n",
    "parameters = model.parameters()\n",
    "learning_rate = 1e-3\n",
    "momentum = 0.9\n",
    "\n",
    "optimizer = SGD(parameters, lr=learning_rate, momentum=momentum)\n",
    "\n",
    "step = len(train_loader_256)\n",
    "scheduler = CosineAnnealingLR(optimizer, step)"
   ]
  },
  {
   "cell_type": "markdown",
   "id": "ad5585ab-b6ef-48fc-97c1-8fa08754d863",
   "metadata": {},
   "source": [
    "### Loss function:"
   ]
  },
  {
   "cell_type": "code",
   "execution_count": 158,
   "id": "da374d3e-30e2-418d-ae99-4e107e021dc7",
   "metadata": {},
   "outputs": [],
   "source": [
    "from torch.nn import CrossEntropyLoss\n",
    "from torch.nn import NLLLoss\n",
    "\n",
    "criterion = CrossEntropyLoss()\n",
    "criterion = NLLLoss()"
   ]
  },
  {
   "cell_type": "markdown",
   "id": "3e139802-c399-4b1f-96fb-1314ffa73597",
   "metadata": {},
   "source": [
    "## Overfitting the model"
   ]
  },
  {
   "cell_type": "code",
   "execution_count": 159,
   "id": "a8911d63-9f2f-46a1-9c04-6e8bb8915054",
   "metadata": {},
   "outputs": [
    {
     "name": "stdout",
     "output_type": "stream",
     "text": [
      "epoch: 0 | loss: -0.012394272722303867\n",
      "Epoch time: 0.07100176811218262\n",
      "epoch: 1 | loss: -0.0052964226342737675\n",
      "Epoch time: 0.024972915649414062\n",
      "epoch: 2 | loss: -0.011859443038702011\n",
      "Epoch time: 0.07094335556030273\n",
      "epoch: 3 | loss: -0.01807466521859169\n",
      "Epoch time: 0.07000923156738281\n",
      "epoch: 4 | loss: -0.01932906173169613\n",
      "Epoch time: 0.0106048583984375\n",
      "epoch: 5 | loss: -0.02544025518000126\n",
      "Epoch time: 0.013296127319335938\n",
      "epoch: 6 | loss: -0.013697688467800617\n",
      "Epoch time: 0.013726472854614258\n",
      "epoch: 7 | loss: -0.025794874876737595\n",
      "Epoch time: 0.014264106750488281\n",
      "epoch: 8 | loss: -0.11973271518945694\n",
      "Epoch time: 0.010962724685668945\n",
      "epoch: 9 | loss: -0.16071085631847382\n",
      "Epoch time: 0.031107187271118164\n",
      "epoch: 10 | loss: -0.5710536241531372\n",
      "Epoch time: 0.030925750732421875\n",
      "epoch: 11 | loss: -0.8992629647254944\n",
      "Epoch time: 0.028964757919311523\n",
      "epoch: 12 | loss: -0.9980373978614807\n",
      "Epoch time: 0.011022567749023438\n",
      "epoch: 13 | loss: -0.998969316482544\n",
      "Epoch time: 0.023000240325927734\n",
      "epoch: 14 | loss: -0.9999096393585205\n",
      "Epoch time: 0.053900957107543945\n",
      "Final loss -0.9999096393585205\n"
     ]
    }
   ],
   "source": [
    "from train import train\n",
    "epochs = 15\n",
    "loss = train(model=model, optimizer=optimizer,\n",
    "          scheduler=scheduler, train_loader=[train_loader_256[0]],\n",
    "          criterion=criterion, epochs=epochs, verbose=False)"
   ]
  },
  {
   "cell_type": "code",
   "execution_count": 160,
   "id": "207be539-3b92-4a2a-8c53-b97afd52c68b",
   "metadata": {},
   "outputs": [
    {
     "data": {
      "text/plain": [
       "[<matplotlib.lines.Line2D at 0x2af8dd233240>]"
      ]
     },
     "execution_count": 160,
     "metadata": {},
     "output_type": "execute_result"
    },
    {
     "data": {
      "image/png": "[encoded data removed]",
      "text/plain": [
       "<Figure size 432x288 with 1 Axes>"
      ]
     },
     "metadata": {
      "needs_background": "light"
     },
     "output_type": "display_data"
    }
   ],
   "source": [
    "import matplotlib.pyplot as plt\n",
    "plt.plot(loss)"
   ]
  },
  {
   "cell_type": "code",
   "execution_count": 161,
   "id": "e74fe24b-5f29-4d3a-a356-f35cb0a50cf7",
   "metadata": {},
   "outputs": [
    {
     "data": {
      "text/plain": [
       "True"
      ]
     },
     "execution_count": 161,
     "metadata": {},
     "output_type": "execute_result"
    }
   ],
   "source": [
    "x_test = model(train_loader_256[0][0].float())\n",
    "(torch.argmax(x_test) == train_loader_256[0][1]).item()"
   ]
  },
  {
   "cell_type": "code",
   "execution_count": 162,
   "id": "f947e81c-2a1a-44ff-acd4-8143b0355de4",
   "metadata": {},
   "outputs": [
    {
     "data": {
      "text/plain": [
       "tensor([9.9999e-01, 3.1709e-07, 6.9103e-08, 2.4755e-07, 1.9495e-07, 3.3124e-07,\n",
       "        6.3252e-07, 2.0900e-07, 8.6652e-07, 1.0556e-07, 1.7264e-07, 8.4080e-08,\n",
       "        2.8219e-07, 1.9040e-07, 3.0959e-07, 3.0908e-07, 5.2649e-07, 3.0828e-07,\n",
       "        2.2183e-07, 3.9650e-07, 3.5337e-07, 6.2676e-07, 1.7227e-07, 5.6204e-07,\n",
       "        2.3479e-07, 2.7386e-07, 3.9709e-07, 1.0169e-07, 3.7732e-07, 3.5456e-07,\n",
       "        1.8535e-07, 5.2169e-07, 1.4469e-07, 1.9993e-07, 1.8800e-07, 2.0225e-07,\n",
       "        8.9016e-07, 3.9748e-07, 1.2552e-07, 2.7053e-07],\n",
       "       grad_fn=<SoftmaxBackward0>)"
      ]
     },
     "execution_count": 162,
     "metadata": {},
     "output_type": "execute_result"
    }
   ],
   "source": [
    "x_test"
   ]
  },
  {
   "cell_type": "markdown",
   "id": "f3e2fafd-e27d-43bd-9953-cee9bd40e789",
   "metadata": {},
   "source": [
    "## Training the model"
   ]
  },
  {
   "cell_type": "code",
   "execution_count": 171,
   "id": "6d058287-2980-4b3b-b02f-e79355a80873",
   "metadata": {},
   "outputs": [],
   "source": [
    "model = PointCloudClassifier(in_features, feature_dim, out_features, k_size, NUM_CLASSES)"
   ]
  },
  {
   "cell_type": "markdown",
   "id": "80349887-8e01-4476-8be9-c9703fc61993",
   "metadata": {},
   "source": [
    "### DataLoader"
   ]
  },
  {
   "cell_type": "code",
   "execution_count": 172,
   "id": "b601ba28-e9d3-46d5-af48-3f12cabbff25",
   "metadata": {},
   "outputs": [],
   "source": [
    "SAMPLE_SIZE = 128\n",
    "TEST = False\n",
    "SAMPLING_METHOD = 'fps'\n",
    "\n",
    "model_net_256 = ModelNet40(dataset_path=modelnet40_path, test=TEST, sample_size=SAMPLE_SIZE, sampling=SAMPLING_METHOD)"
   ]
  },
  {
   "cell_type": "code",
   "execution_count": 173,
   "id": "19b362b1-2cc4-4ab5-a42b-e2fc7d143b4f",
   "metadata": {},
   "outputs": [],
   "source": [
    "batch_size = 32"
   ]
  },
  {
   "cell_type": "code",
   "execution_count": 174,
   "id": "9b1bbee6-7a01-4ffa-aff9-10d5615290c5",
   "metadata": {},
   "outputs": [],
   "source": [
    "from torch.utils.data import DataLoader\n",
    "\n",
    "train_loader = DataLoader(model_net_256, batch_size=batch_size, shuffle=True, collate_fn=collate_fn)"
   ]
  },
  {
   "cell_type": "markdown",
   "id": "2fa38d8c-6bc6-43fe-8d94-9941518219ad",
   "metadata": {},
   "source": [
    "### Optimizer:"
   ]
  },
  {
   "cell_type": "code",
   "execution_count": 181,
   "id": "41e684be-c344-46b5-b4ad-31e93b7df4a4",
   "metadata": {},
   "outputs": [],
   "source": [
    "from torch.optim import SGD\n",
    "from torch.optim.lr_scheduler import CosineAnnealingLR\n",
    "\n",
    "parameters = model.parameters()\n",
    "learning_rate = 1e-4\n",
    "momentum = 0.9\n",
    "\n",
    "optimizer = SGD(parameters, lr=learning_rate, momentum=momentum)\n",
    "\n",
    "step = len(train_loader_256)\n",
    "scheduler = CosineAnnealingLR(optimizer, step)"
   ]
  },
  {
   "cell_type": "markdown",
   "id": "bbb744c7-55d3-455f-9a4b-426ab7cbd284",
   "metadata": {},
   "source": [
    "### Loss function:"
   ]
  },
  {
   "cell_type": "code",
   "execution_count": 182,
   "id": "8c81a31d-2d3d-4fe5-bda5-d57e8f69ddfe",
   "metadata": {},
   "outputs": [],
   "source": [
    "from torch.nn import CrossEntropyLoss\n",
    "from torch.nn import NLLLoss\n",
    "\n",
    "criterion = CrossEntropyLoss()\n",
    "criterion = NLLLoss()"
   ]
  },
  {
   "cell_type": "code",
   "execution_count": null,
   "id": "dec6e47a-6ffe-48bd-b529-c482d5d48d95",
   "metadata": {},
   "outputs": [
    {
     "name": "stdout",
     "output_type": "stream",
     "text": [
      "epoch: 0 | loss: -127.69613912854719\n",
      "Epoch time: 2034.1069910526276\n"
     ]
    }
   ],
   "source": [
    "epochs = 5\n",
    "loss = train(model=model, optimizer=optimizer,\n",
    "          scheduler=scheduler, train_loader=train_loader_256,\n",
    "          criterion=criterion, epochs=epochs, save_params=True, verbose=False, load_model=True)"
   ]
  },
  {
   "cell_type": "markdown",
   "id": "92cf70a0-74be-4301-8a06-ab7b69f4bda9",
   "metadata": {},
   "source": [
    "## Model Evaluation:"
   ]
  },
  {
   "cell_type": "markdown",
   "id": "ae71f6c8-f5f9-4607-9bf2-d5e34e1f4bba",
   "metadata": {},
   "source": [
    "### Loading the test set:"
   ]
  },
  {
   "cell_type": "code",
   "execution_count": 118,
   "id": "8a46fa35-8dfa-406f-b939-61fea708997f",
   "metadata": {},
   "outputs": [],
   "source": [
    "SAMPLE_SIZE = 128\n",
    "TEST = True\n",
    "SAMPLING_METHOD = 'fps'\n",
    "batch_size = 1\n",
    "\n",
    "model_net_256_test = ModelNet40(dataset_path=modelnet40_path, test=TEST, sample_size=SAMPLE_SIZE, sampling=SAMPLING_METHOD)\n",
    "test_laoder = DataLoader(model_net_256_test, batch_size=batch_size, shuffle=True, collate_fn=collate_fn)"
   ]
  },
  {
   "cell_type": "code",
   "execution_count": 119,
   "id": "22e166ad-8cf6-4a55-9419-05b9083d81d2",
   "metadata": {},
   "outputs": [],
   "source": [
    "from eval import evaluate"
   ]
  },
  {
   "cell_type": "code",
   "execution_count": 120,
   "id": "abe94c82-7053-42ac-9c8e-5d31321e48ad",
   "metadata": {},
   "outputs": [
    {
     "name": "stdout",
     "output_type": "stream",
     "text": [
      "Accuracy: 0.77%\t |\tEpoch: 1\n",
      "Accuracy: 0.77%\t |\tEpoch: 2\n",
      "Accuracy: 0.77%\t |\tEpoch: 3\n",
      "Accuracy: 0.77%\t |\tEpoch: 4\n"
     ]
    },
    {
     "ename": "FileNotFoundError",
     "evalue": "[Errno 2] No such file or directory: '/scratch/users/ahamadeh18/COMP390/TransformersFor3dPointCLouds/parameters/param_epoch_5'",
     "output_type": "error",
     "traceback": [
      "\u001b[0;31m---------------------------------------------------------------------------\u001b[0m",
      "\u001b[0;31mFileNotFoundError\u001b[0m                         Traceback (most recent call last)",
      "\u001b[0;32m/tmp/ipykernel_222062/1747864803.py\u001b[0m in \u001b[0;36m<module>\u001b[0;34m\u001b[0m\n\u001b[0;32m----> 1\u001b[0;31m \u001b[0mevaluate\u001b[0m\u001b[0;34m(\u001b[0m\u001b[0mmodel\u001b[0m\u001b[0;34m,\u001b[0m \u001b[0mmodel_net_256_test\u001b[0m\u001b[0;34m,\u001b[0m \u001b[0mepochs\u001b[0m\u001b[0;34m,\u001b[0m \u001b[0mverbose\u001b[0m\u001b[0;34m=\u001b[0m\u001b[0;32mTrue\u001b[0m\u001b[0;34m)\u001b[0m\u001b[0;34m\u001b[0m\u001b[0m\n\u001b[0m",
      "\u001b[0;32m/scratch/users/ahamadeh18/COMP390/TransformersFor3dPointCLouds/eval.py\u001b[0m in \u001b[0;36mevaluate\u001b[0;34m(model, validation_loader, epochs, verbose)\u001b[0m\n\u001b[1;32m     10\u001b[0m     \u001b[0mtotal_accuracy\u001b[0m \u001b[0;34m=\u001b[0m \u001b[0;34m[\u001b[0m\u001b[0;34m]\u001b[0m\u001b[0;34m\u001b[0m\u001b[0m\n\u001b[1;32m     11\u001b[0m     \u001b[0;32mfor\u001b[0m \u001b[0mepoch\u001b[0m \u001b[0;32min\u001b[0m \u001b[0mrange\u001b[0m\u001b[0;34m(\u001b[0m\u001b[0;36m1\u001b[0m\u001b[0;34m,\u001b[0m \u001b[0mepochs\u001b[0m \u001b[0;34m+\u001b[0m \u001b[0;36m1\u001b[0m\u001b[0;34m)\u001b[0m\u001b[0;34m:\u001b[0m\u001b[0;34m\u001b[0m\u001b[0m\n\u001b[0;32m---> 12\u001b[0;31m         \u001b[0mmodel\u001b[0m\u001b[0;34m.\u001b[0m\u001b[0mload_state_dict\u001b[0m\u001b[0;34m(\u001b[0m\u001b[0mget_model_state_dict\u001b[0m\u001b[0;34m(\u001b[0m\u001b[0;34mf'param_epoch_{epoch}'\u001b[0m\u001b[0;34m)\u001b[0m\u001b[0;34m)\u001b[0m\u001b[0;34m\u001b[0m\u001b[0m\n\u001b[0m\u001b[1;32m     13\u001b[0m         \u001b[0mcorrect\u001b[0m \u001b[0;34m=\u001b[0m \u001b[0;36m0\u001b[0m\u001b[0;34m\u001b[0m\u001b[0m\n\u001b[1;32m     14\u001b[0m \u001b[0;34m\u001b[0m\u001b[0m\n",
      "\u001b[0;32m/scratch/users/ahamadeh18/COMP390/TransformersFor3dPointCLouds/eval.py\u001b[0m in \u001b[0;36mget_model_state_dict\u001b[0;34m(param_name, path)\u001b[0m\n\u001b[1;32m     34\u001b[0m \u001b[0;32mdef\u001b[0m \u001b[0mget_model_state_dict\u001b[0m\u001b[0;34m(\u001b[0m\u001b[0mparam_name\u001b[0m\u001b[0;34m,\u001b[0m \u001b[0mpath\u001b[0m\u001b[0;34m=\u001b[0m\u001b[0mdefault_path\u001b[0m\u001b[0;34m)\u001b[0m\u001b[0;34m:\u001b[0m\u001b[0;34m\u001b[0m\u001b[0m\n\u001b[1;32m     35\u001b[0m     \u001b[0mpath\u001b[0m \u001b[0;34m=\u001b[0m \u001b[0mos\u001b[0m\u001b[0;34m.\u001b[0m\u001b[0mpath\u001b[0m\u001b[0;34m.\u001b[0m\u001b[0mjoin\u001b[0m\u001b[0;34m(\u001b[0m\u001b[0mpath\u001b[0m\u001b[0;34m,\u001b[0m \u001b[0mparam_name\u001b[0m\u001b[0;34m)\u001b[0m\u001b[0;34m\u001b[0m\u001b[0m\n\u001b[0;32m---> 36\u001b[0;31m     \u001b[0;32mwith\u001b[0m \u001b[0mopen\u001b[0m\u001b[0;34m(\u001b[0m\u001b[0mpath\u001b[0m\u001b[0;34m,\u001b[0m \u001b[0;34m'rb'\u001b[0m\u001b[0;34m)\u001b[0m \u001b[0;32mas\u001b[0m \u001b[0mfile\u001b[0m\u001b[0;34m:\u001b[0m\u001b[0;34m\u001b[0m\u001b[0m\n\u001b[0m\u001b[1;32m     37\u001b[0m         \u001b[0mmodel_state_dict\u001b[0m \u001b[0;34m=\u001b[0m \u001b[0mtorch\u001b[0m\u001b[0;34m.\u001b[0m\u001b[0mload\u001b[0m\u001b[0;34m(\u001b[0m\u001b[0mfile\u001b[0m\u001b[0;34m)\u001b[0m\u001b[0;34m[\u001b[0m\u001b[0;34m'model_state_dict'\u001b[0m\u001b[0;34m]\u001b[0m\u001b[0;34m\u001b[0m\u001b[0m\n\u001b[1;32m     38\u001b[0m     \u001b[0;32mreturn\u001b[0m \u001b[0mmodel_state_dict\u001b[0m\u001b[0;34m\u001b[0m\u001b[0m\n",
      "\u001b[0;31mFileNotFoundError\u001b[0m: [Errno 2] No such file or directory: '/scratch/users/ahamadeh18/COMP390/TransformersFor3dPointCLouds/parameters/param_epoch_5'"
     ]
    }
   ],
   "source": [
    "evaluate(model, model_net_256_test, epochs, verbose=True)"
   ]
  },
  {
   "cell_type": "code",
   "execution_count": 121,
   "id": "cfec4487-36cf-4fba-a648-49f80ec2d4c7",
   "metadata": {},
   "outputs": [],
   "source": [
    "data, label, _ = model_net_256_test[0]"
   ]
  },
  {
   "cell_type": "code",
   "execution_count": 122,
   "id": "c5d29129-efe8-4226-b2a0-f96f680ee803",
   "metadata": {},
   "outputs": [
    {
     "name": "stdout",
     "output_type": "stream",
     "text": [
      "tensor(0)\n",
      "True\n"
     ]
    }
   ],
   "source": [
    "yhat = model(data.float())\n",
    "print(label)\n",
    "print((torch.argmax(yhat) == label).item())"
   ]
  },
  {
   "cell_type": "code",
   "execution_count": 123,
   "id": "ac3fdfbd-d6a0-451d-b435-53f526a15765",
   "metadata": {},
   "outputs": [],
   "source": [
    "accuracy = 0\n",
    "N = len(model_net_256_test)\n",
    "model.eval()\n",
    "for point in model_net_256_test:\n",
    "    if point == None:\n",
    "        N -= 1\n",
    "        continue\n",
    "    x, y, _ = point\n",
    "    yhat = model(x.float())\n",
    "    \n",
    "    if (torch.argmax(yhat) == y).item():\n",
    "        accuracy += 1"
   ]
  },
  {
   "cell_type": "code",
   "execution_count": 124,
   "id": "d130974b-489f-4a3d-96a9-0529efe45648",
   "metadata": {},
   "outputs": [],
   "source": [
    "acc = accuracy / N"
   ]
  },
  {
   "cell_type": "code",
   "execution_count": 125,
   "id": "20979174-3422-415f-bf12-b431893d83e3",
   "metadata": {},
   "outputs": [
    {
     "data": {
      "text/plain": [
       "0.0078060805258833195"
      ]
     },
     "execution_count": 125,
     "metadata": {},
     "output_type": "execute_result"
    }
   ],
   "source": [
    "acc"
   ]
  }
 ],
 "metadata": {
  "kernelspec": {
   "display_name": "pc_transformer",
   "language": "python",
   "name": "pc_transformer"
  },
  "language_info": {
   "codemirror_mode": {
    "name": "ipython",
    "version": 3
   },
   "file_extension": ".py",
   "mimetype": "text/x-python",
   "name": "python",
   "nbconvert_exporter": "python",
   "pygments_lexer": "ipython3",
   "version": "3.7.0"
  }
 },
 "nbformat": 4,
 "nbformat_minor": 5
}
