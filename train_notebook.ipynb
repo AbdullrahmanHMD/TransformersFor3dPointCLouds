{
 "cells": [
  {
   "cell_type": "code",
   "execution_count": 139,
   "id": "6ab0ffb7-fa11-4c47-8b94-dffb3830d4b5",
   "metadata": {},
   "outputs": [
    {
     "name": "stdout",
     "output_type": "stream",
     "text": [
      "The autoreload extension is already loaded. To reload it, use:\n",
      "  %reload_ext autoreload\n"
     ]
    }
   ],
   "source": [
    "%load_ext autoreload\n",
    "%autoreload 2"
   ]
  },
  {
   "cell_type": "code",
   "execution_count": 140,
   "id": "48711815-4f29-4545-94f5-47cafdb5a05e",
   "metadata": {},
   "outputs": [],
   "source": [
    "from data.data_loader import ModelNet40\n",
    "import os\n",
    "\n",
    "import numpy as np\n",
    "from utils import *\n",
    "\n",
    "from model import *"
   ]
  },
  {
   "cell_type": "markdown",
   "id": "15d43bfa-37db-428d-a9ad-15ea909d7bb2",
   "metadata": {},
   "source": [
    "### Getting the dataset path"
   ]
  },
  {
   "cell_type": "code",
   "execution_count": 141,
   "id": "6b3409a3-efe8-4c99-ad0f-345bc7cea2b7",
   "metadata": {},
   "outputs": [],
   "source": [
    "modelnet40_path = os.path.join(os.getcwd(), os.path.join('data', 'dataset_path.txt'))\n",
    "\n",
    "with open(modelnet40_path, 'r') as file:\n",
    "    modelnet40_path = file.readline()"
   ]
  },
  {
   "cell_type": "markdown",
   "id": "178cd81a-25eb-4e62-a15c-aa8b69ec1e4a",
   "metadata": {},
   "source": [
    "### Initalizing the training set DataLoader object"
   ]
  },
  {
   "cell_type": "code",
   "execution_count": 142,
   "id": "41b698f0-07d2-474c-82fa-ed8405640c69",
   "metadata": {},
   "outputs": [],
   "source": [
    "SAMPLE_SIZE = 256\n",
    "TEST = False\n",
    "SAMPLING_METHOD = 'fps'"
   ]
  },
  {
   "cell_type": "code",
   "execution_count": 143,
   "id": "223c42c7-ad55-4e6e-bccf-9c24b7e2c6b1",
   "metadata": {},
   "outputs": [],
   "source": [
    "train_loader_256 = ModelNet40(dataset_path=modelnet40_path, test=TEST, sample_size=SAMPLE_SIZE, sampling=SAMPLING_METHOD)"
   ]
  },
  {
   "cell_type": "markdown",
   "id": "ff626054-1437-400c-81bf-ca6b0e45ef7f",
   "metadata": {},
   "source": [
    "### Creating the model"
   ]
  },
  {
   "cell_type": "code",
   "execution_count": 144,
   "id": "4f398ece-6412-4067-91d3-e1af0be889ee",
   "metadata": {},
   "outputs": [],
   "source": [
    "in_features = 3\n",
    "feature_dim = 128\n",
    "out_features = 1024\n",
    "k_size = 128\n",
    "NUM_CLASSES = 40"
   ]
  },
  {
   "cell_type": "code",
   "execution_count": 145,
   "id": "3a6ac2b7-2638-4d0c-9b79-aeee1856f169",
   "metadata": {},
   "outputs": [],
   "source": [
    "model = PointCloudClassifier(in_features, feature_dim, out_features, k_size, NUM_CLASSES)"
   ]
  },
  {
   "cell_type": "markdown",
   "id": "721c0392-b4a0-4a7d-85a7-e6978fd980af",
   "metadata": {},
   "source": [
    "## Training specifications:"
   ]
  },
  {
   "cell_type": "markdown",
   "id": "3c211066-6cff-4040-bdf5-583d3fcf67d7",
   "metadata": {},
   "source": [
    "### Optimizer:"
   ]
  },
  {
   "cell_type": "code",
   "execution_count": 146,
   "id": "713b4b28-d8d2-48b5-b00a-e1d67f186299",
   "metadata": {},
   "outputs": [],
   "source": [
    "from torch.optim import SGD\n",
    "from torch.optim.lr_scheduler import CosineAnnealingLR\n",
    "\n",
    "parameters = model.parameters()\n",
    "learning_rate = 1e-3\n",
    "momentum = 0.9\n",
    "\n",
    "optimizer = SGD(parameters, lr=learning_rate, momentum=momentum)\n",
    "\n",
    "step = len(train_loader_256)\n",
    "scheduler = CosineAnnealingLR(optimizer, step)"
   ]
  },
  {
   "cell_type": "markdown",
   "id": "ad5585ab-b6ef-48fc-97c1-8fa08754d863",
   "metadata": {},
   "source": [
    "### Loss function:"
   ]
  },
  {
   "cell_type": "code",
   "execution_count": 133,
   "id": "da374d3e-30e2-418d-ae99-4e107e021dc7",
   "metadata": {},
   "outputs": [],
   "source": [
    "from torch.nn import CrossEntropyLoss\n",
    "from torch.nn import NLLLoss\n",
    "\n",
    "criterion = CrossEntropyLoss()\n",
    "criterion = NLLLoss()"
   ]
  },
  {
   "cell_type": "markdown",
   "id": "3e139802-c399-4b1f-96fb-1314ffa73597",
   "metadata": {},
   "source": [
    "## Overfitting the model"
   ]
  },
  {
   "cell_type": "code",
   "execution_count": 134,
   "id": "a8911d63-9f2f-46a1-9c04-6e8bb8915054",
   "metadata": {},
   "outputs": [],
   "source": [
    "from train import train\n",
    "epochs = 15\n",
    "loss = train(model=model, optimizer=optimizer,\n",
    "          scheduler=scheduler, train_loader=[train_loader_256[0]],\n",
    "          criterion=criterion, epochs=epochs, verbose=False)"
   ]
  },
  {
   "cell_type": "code",
   "execution_count": 135,
   "id": "207be539-3b92-4a2a-8c53-b97afd52c68b",
   "metadata": {},
   "outputs": [
    {
     "data": {
      "text/plain": [
       "[<matplotlib.lines.Line2D at 0x1781842e730>]"
      ]
     },
     "execution_count": 135,
     "metadata": {},
     "output_type": "execute_result"
    },
    {
     "data": {
      "image/png": "[encoded data removed]",
      "text/plain": [
       "<Figure size 432x288 with 1 Axes>"
      ]
     },
     "metadata": {
      "needs_background": "light"
     },
     "output_type": "display_data"
    }
   ],
   "source": [
    "import matplotlib.pyplot as plt\n",
    "plt.plot(loss)"
   ]
  },
  {
   "cell_type": "code",
   "execution_count": 137,
   "id": "e74fe24b-5f29-4d3a-a356-f35cb0a50cf7",
   "metadata": {},
   "outputs": [
    {
     "data": {
      "text/plain": [
       "True"
      ]
     },
     "execution_count": 137,
     "metadata": {},
     "output_type": "execute_result"
    }
   ],
   "source": [
    "x_test = model(train_loader_256[0][0].float())\n",
    "(torch.argmax(x_test) == train_loader_256[0][1]).item()"
   ]
  },
  {
   "cell_type": "code",
   "execution_count": 138,
   "id": "f947e81c-2a1a-44ff-acd4-8143b0355de4",
   "metadata": {},
   "outputs": [
    {
     "data": {
      "text/plain": [
       "tensor([1.0000e+00, 9.8115e-25, 6.7920e-25, 5.1931e-25, 4.0600e-26, 8.0649e-25,\n",
       "        2.4314e-25, 1.2271e-24, 5.1505e-25, 4.2583e-25, 7.5070e-25, 2.3828e-25,\n",
       "        6.6633e-25, 5.5468e-25, 1.0325e-24, 5.3474e-25, 7.0295e-25, 5.2282e-25,\n",
       "        3.1251e-25, 1.6517e-24, 1.2778e-24, 6.5971e-25, 1.0678e-24, 2.4814e-25,\n",
       "        1.3238e-24, 1.8899e-25, 1.5779e-25, 4.6839e-25, 4.3990e-25, 4.7327e-25,\n",
       "        1.3667e-24, 5.0117e-25, 6.0077e-25, 3.1468e-25, 1.0360e-24, 3.1456e-25,\n",
       "        5.6460e-25, 1.2356e-25, 1.5556e-25, 5.1871e-25],\n",
       "       grad_fn=<SoftmaxBackward0>)"
      ]
     },
     "execution_count": 138,
     "metadata": {},
     "output_type": "execute_result"
    }
   ],
   "source": [
    "x_test"
   ]
  },
  {
   "cell_type": "markdown",
   "id": "f3e2fafd-e27d-43bd-9953-cee9bd40e789",
   "metadata": {},
   "source": [
    "## Training the model"
   ]
  },
  {
   "cell_type": "code",
   "execution_count": 99,
   "id": "6d058287-2980-4b3b-b02f-e79355a80873",
   "metadata": {},
   "outputs": [],
   "source": [
    "model = PointCloudClassifier(in_features, feature_dim, out_features, k_size, NUM_CLASSES)"
   ]
  },
  {
   "cell_type": "markdown",
   "id": "2fa38d8c-6bc6-43fe-8d94-9941518219ad",
   "metadata": {},
   "source": [
    "### Optimizer:"
   ]
  },
  {
   "cell_type": "code",
   "execution_count": 102,
   "id": "41e684be-c344-46b5-b4ad-31e93b7df4a4",
   "metadata": {},
   "outputs": [],
   "source": [
    "from torch.optim import SGD\n",
    "from torch.optim.lr_scheduler import CosineAnnealingLR\n",
    "\n",
    "parameters = model.parameters()\n",
    "learning_rate = 1e-4\n",
    "momentum = 0.9\n",
    "\n",
    "optimizer = SGD(parameters, lr=learning_rate, momentum=momentum)\n",
    "\n",
    "step = len(train_loader_256)\n",
    "scheduler = CosineAnnealingLR(optimizer, step)"
   ]
  },
  {
   "cell_type": "markdown",
   "id": "bbb744c7-55d3-455f-9a4b-426ab7cbd284",
   "metadata": {},
   "source": [
    "### Loss function:"
   ]
  },
  {
   "cell_type": "code",
   "execution_count": 101,
   "id": "8c81a31d-2d3d-4fe5-bda5-d57e8f69ddfe",
   "metadata": {},
   "outputs": [],
   "source": [
    "from torch.nn import CrossEntropyLoss\n",
    "from torch.nn import NLLLoss\n",
    "\n",
    "criterion = CrossEntropyLoss()\n",
    "criterion = NLLLoss()"
   ]
  },
  {
   "cell_type": "code",
   "execution_count": 103,
   "id": "dec6e47a-6ffe-48bd-b529-c482d5d48d95",
   "metadata": {},
   "outputs": [
    {
     "ename": "ValueError",
     "evalue": "attempt to get argmax of an empty sequence",
     "output_type": "error",
     "traceback": [
      "\u001b[1;31m---------------------------------------------------------------------------\u001b[0m",
      "\u001b[1;31mValueError\u001b[0m                                Traceback (most recent call last)",
      "\u001b[1;32m~\\AppData\\Local\\Temp/ipykernel_53316/712368186.py\u001b[0m in \u001b[0;36m<module>\u001b[1;34m\u001b[0m\n\u001b[0;32m      1\u001b[0m \u001b[0mepochs\u001b[0m \u001b[1;33m=\u001b[0m \u001b[1;36m25\u001b[0m\u001b[1;33m\u001b[0m\u001b[1;33m\u001b[0m\u001b[0m\n\u001b[1;32m----> 2\u001b[1;33m loss = train(model=model, optimizer=optimizer,\n\u001b[0m\u001b[0;32m      3\u001b[0m           \u001b[0mscheduler\u001b[0m\u001b[1;33m=\u001b[0m\u001b[0mscheduler\u001b[0m\u001b[1;33m,\u001b[0m \u001b[0mtrain_loader\u001b[0m\u001b[1;33m=\u001b[0m\u001b[0mtrain_loader_256\u001b[0m\u001b[1;33m,\u001b[0m\u001b[1;33m\u001b[0m\u001b[1;33m\u001b[0m\u001b[0m\n\u001b[0;32m      4\u001b[0m           criterion=criterion, epochs=epochs, verbose=False)\n",
      "\u001b[1;32mG:\\Edu\\University\\Forth Year\\Second Semester\\COMP 390\\TransformersFor3dPointCLouds\\train.py\u001b[0m in \u001b[0;36mtrain\u001b[1;34m(model, optimizer, scheduler, train_loader, criterion, epochs, verbose)\u001b[0m\n\u001b[0;32m     11\u001b[0m     \u001b[1;32mfor\u001b[0m \u001b[0mepoch\u001b[0m \u001b[1;32min\u001b[0m \u001b[0mrange\u001b[0m\u001b[1;33m(\u001b[0m\u001b[0mepochs\u001b[0m\u001b[1;33m)\u001b[0m\u001b[1;33m:\u001b[0m\u001b[1;33m\u001b[0m\u001b[1;33m\u001b[0m\u001b[0m\n\u001b[0;32m     12\u001b[0m         \u001b[0mepoch_loss\u001b[0m \u001b[1;33m=\u001b[0m \u001b[1;36m0\u001b[0m\u001b[1;33m\u001b[0m\u001b[1;33m\u001b[0m\u001b[0m\n\u001b[1;32m---> 13\u001b[1;33m         \u001b[1;32mfor\u001b[0m \u001b[0mx\u001b[0m\u001b[1;33m,\u001b[0m \u001b[0my\u001b[0m\u001b[1;33m,\u001b[0m \u001b[0m_\u001b[0m \u001b[1;32min\u001b[0m \u001b[0mtrain_loader\u001b[0m\u001b[1;33m:\u001b[0m\u001b[1;33m\u001b[0m\u001b[1;33m\u001b[0m\u001b[0m\n\u001b[0m\u001b[0;32m     14\u001b[0m             \u001b[0moptimizer\u001b[0m\u001b[1;33m.\u001b[0m\u001b[0mzero_grad\u001b[0m\u001b[1;33m(\u001b[0m\u001b[1;33m)\u001b[0m\u001b[1;33m\u001b[0m\u001b[1;33m\u001b[0m\u001b[0m\n\u001b[0;32m     15\u001b[0m \u001b[1;33m\u001b[0m\u001b[0m\n",
      "\u001b[1;32mG:\\Edu\\University\\Forth Year\\Second Semester\\COMP 390\\TransformersFor3dPointCLouds\\data\\data_loader.py\u001b[0m in \u001b[0;36m__getitem__\u001b[1;34m(self, index)\u001b[0m\n\u001b[0;32m     46\u001b[0m \u001b[1;33m\u001b[0m\u001b[0m\n\u001b[0;32m     47\u001b[0m         \u001b[1;32mif\u001b[0m \u001b[0mself\u001b[0m\u001b[1;33m.\u001b[0m\u001b[0msample\u001b[0m \u001b[1;33m==\u001b[0m \u001b[1;34m'fps'\u001b[0m\u001b[1;33m:\u001b[0m\u001b[1;33m\u001b[0m\u001b[1;33m\u001b[0m\u001b[0m\n\u001b[1;32m---> 48\u001b[1;33m             \u001b[0mvector\u001b[0m \u001b[1;33m=\u001b[0m \u001b[0mself\u001b[0m\u001b[1;33m.\u001b[0m\u001b[0mfps\u001b[0m\u001b[1;33m(\u001b[0m\u001b[0mvector\u001b[0m\u001b[1;33m,\u001b[0m \u001b[0mself\u001b[0m\u001b[1;33m.\u001b[0m\u001b[0mSAMPLE_SIZE\u001b[0m\u001b[1;33m)\u001b[0m\u001b[1;33m\u001b[0m\u001b[1;33m\u001b[0m\u001b[0m\n\u001b[0m\u001b[0;32m     49\u001b[0m \u001b[1;33m\u001b[0m\u001b[0m\n\u001b[0;32m     50\u001b[0m         \u001b[1;32melif\u001b[0m \u001b[0mself\u001b[0m\u001b[1;33m.\u001b[0m\u001b[0msample\u001b[0m \u001b[1;33m==\u001b[0m \u001b[1;34m'uni'\u001b[0m\u001b[1;33m:\u001b[0m\u001b[1;33m\u001b[0m\u001b[1;33m\u001b[0m\u001b[0m\n",
      "\u001b[1;32mG:\\Edu\\University\\Forth Year\\Second Semester\\COMP 390\\TransformersFor3dPointCLouds\\data\\data_loader.py\u001b[0m in \u001b[0;36mfps\u001b[1;34m(self, points, n_samples)\u001b[0m\n\u001b[0;32m    178\u001b[0m             \u001b[1;31m# We want to pick the one that has the largest nearest neighbour\u001b[0m\u001b[1;33m\u001b[0m\u001b[1;33m\u001b[0m\u001b[0m\n\u001b[0;32m    179\u001b[0m             \u001b[1;31m# distance to the sampled points\u001b[0m\u001b[1;33m\u001b[0m\u001b[1;33m\u001b[0m\u001b[0m\n\u001b[1;32m--> 180\u001b[1;33m             \u001b[0mselected\u001b[0m \u001b[1;33m=\u001b[0m \u001b[0mnp\u001b[0m\u001b[1;33m.\u001b[0m\u001b[0margmax\u001b[0m\u001b[1;33m(\u001b[0m\u001b[0mdists\u001b[0m\u001b[1;33m[\u001b[0m\u001b[0mpoints_left\u001b[0m\u001b[1;33m]\u001b[0m\u001b[1;33m)\u001b[0m\u001b[1;33m\u001b[0m\u001b[1;33m\u001b[0m\u001b[0m\n\u001b[0m\u001b[0;32m    181\u001b[0m             \u001b[0msample_inds\u001b[0m\u001b[1;33m[\u001b[0m\u001b[0mi\u001b[0m\u001b[1;33m]\u001b[0m \u001b[1;33m=\u001b[0m \u001b[0mpoints_left\u001b[0m\u001b[1;33m[\u001b[0m\u001b[0mselected\u001b[0m\u001b[1;33m]\u001b[0m\u001b[1;33m\u001b[0m\u001b[1;33m\u001b[0m\u001b[0m\n\u001b[0;32m    182\u001b[0m \u001b[1;33m\u001b[0m\u001b[0m\n",
      "\u001b[1;32m<__array_function__ internals>\u001b[0m in \u001b[0;36margmax\u001b[1;34m(*args, **kwargs)\u001b[0m\n",
      "\u001b[1;32m~\\anaconda3\\lib\\site-packages\\numpy\\core\\fromnumeric.py\u001b[0m in \u001b[0;36margmax\u001b[1;34m(a, axis, out)\u001b[0m\n\u001b[0;32m   1191\u001b[0m \u001b[1;33m\u001b[0m\u001b[0m\n\u001b[0;32m   1192\u001b[0m     \"\"\"\n\u001b[1;32m-> 1193\u001b[1;33m     \u001b[1;32mreturn\u001b[0m \u001b[0m_wrapfunc\u001b[0m\u001b[1;33m(\u001b[0m\u001b[0ma\u001b[0m\u001b[1;33m,\u001b[0m \u001b[1;34m'argmax'\u001b[0m\u001b[1;33m,\u001b[0m \u001b[0maxis\u001b[0m\u001b[1;33m=\u001b[0m\u001b[0maxis\u001b[0m\u001b[1;33m,\u001b[0m \u001b[0mout\u001b[0m\u001b[1;33m=\u001b[0m\u001b[0mout\u001b[0m\u001b[1;33m)\u001b[0m\u001b[1;33m\u001b[0m\u001b[1;33m\u001b[0m\u001b[0m\n\u001b[0m\u001b[0;32m   1194\u001b[0m \u001b[1;33m\u001b[0m\u001b[0m\n\u001b[0;32m   1195\u001b[0m \u001b[1;33m\u001b[0m\u001b[0m\n",
      "\u001b[1;32m~\\anaconda3\\lib\\site-packages\\numpy\\core\\fromnumeric.py\u001b[0m in \u001b[0;36m_wrapfunc\u001b[1;34m(obj, method, *args, **kwds)\u001b[0m\n\u001b[0;32m     56\u001b[0m \u001b[1;33m\u001b[0m\u001b[0m\n\u001b[0;32m     57\u001b[0m     \u001b[1;32mtry\u001b[0m\u001b[1;33m:\u001b[0m\u001b[1;33m\u001b[0m\u001b[1;33m\u001b[0m\u001b[0m\n\u001b[1;32m---> 58\u001b[1;33m         \u001b[1;32mreturn\u001b[0m \u001b[0mbound\u001b[0m\u001b[1;33m(\u001b[0m\u001b[1;33m*\u001b[0m\u001b[0margs\u001b[0m\u001b[1;33m,\u001b[0m \u001b[1;33m**\u001b[0m\u001b[0mkwds\u001b[0m\u001b[1;33m)\u001b[0m\u001b[1;33m\u001b[0m\u001b[1;33m\u001b[0m\u001b[0m\n\u001b[0m\u001b[0;32m     59\u001b[0m     \u001b[1;32mexcept\u001b[0m \u001b[0mTypeError\u001b[0m\u001b[1;33m:\u001b[0m\u001b[1;33m\u001b[0m\u001b[1;33m\u001b[0m\u001b[0m\n\u001b[0;32m     60\u001b[0m         \u001b[1;31m# A TypeError occurs if the object does have such a method in its\u001b[0m\u001b[1;33m\u001b[0m\u001b[1;33m\u001b[0m\u001b[0m\n",
      "\u001b[1;31mValueError\u001b[0m: attempt to get argmax of an empty sequence"
     ]
    }
   ],
   "source": [
    "epochs = 25\n",
    "loss = train(model=model, optimizer=optimizer,\n",
    "          scheduler=scheduler, train_loader=train_loader_256,\n",
    "          criterion=criterion, epochs=epochs, verbose=False)"
   ]
  }
 ],
 "metadata": {
  "kernelspec": {
   "display_name": "Python 3 (ipykernel)",
   "language": "python",
   "name": "python3"
  },
  "language_info": {
   "codemirror_mode": {
    "name": "ipython",
    "version": 3
   },
   "file_extension": ".py",
   "mimetype": "text/x-python",
   "name": "python",
   "nbconvert_exporter": "python",
   "pygments_lexer": "ipython3",
   "version": "3.9.7"
  }
 },
 "nbformat": 4,
 "nbformat_minor": 5
}
