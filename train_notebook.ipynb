{
 "cells": [
  {
   "cell_type": "code",
   "execution_count": 177,
   "id": "6ab0ffb7-fa11-4c47-8b94-dffb3830d4b5",
   "metadata": {},
   "outputs": [
    {
     "name": "stdout",
     "output_type": "stream",
     "text": [
      "The autoreload extension is already loaded. To reload it, use:\n",
      "  %reload_ext autoreload\n"
     ]
    }
   ],
   "source": [
    "%load_ext autoreload\n",
    "%autoreload 2"
   ]
  },
  {
   "cell_type": "code",
   "execution_count": 178,
   "id": "48711815-4f29-4545-94f5-47cafdb5a05e",
   "metadata": {},
   "outputs": [],
   "source": [
    "from data.dataset import ModelNet40, collate_fn\n",
    "import os\n",
    "\n",
    "import numpy as np\n",
    "from utils import *\n",
    "\n",
    "from model import *"
   ]
  },
  {
   "cell_type": "markdown",
   "id": "15d43bfa-37db-428d-a9ad-15ea909d7bb2",
   "metadata": {},
   "source": [
    "### Getting the dataset path"
   ]
  },
  {
   "cell_type": "code",
   "execution_count": 179,
   "id": "6b3409a3-efe8-4c99-ad0f-345bc7cea2b7",
   "metadata": {},
   "outputs": [],
   "source": [
    "modelnet40_path = os.path.join(os.getcwd(), os.path.join('data', 'dataset_path.txt'))\n",
    "\n",
    "with open(modelnet40_path, 'r') as file:\n",
    "    modelnet40_path = file.readline()"
   ]
  },
  {
   "cell_type": "markdown",
   "id": "178cd81a-25eb-4e62-a15c-aa8b69ec1e4a",
   "metadata": {},
   "source": [
    "### Initalizing the training set DataLoader object"
   ]
  },
  {
   "cell_type": "code",
   "execution_count": 180,
   "id": "41b698f0-07d2-474c-82fa-ed8405640c69",
   "metadata": {},
   "outputs": [],
   "source": [
    "SAMPLE_SIZE = 256\n",
    "TEST = False\n",
    "SAMPLING_METHOD = 'fps'"
   ]
  },
  {
   "cell_type": "code",
   "execution_count": 181,
   "id": "223c42c7-ad55-4e6e-bccf-9c24b7e2c6b1",
   "metadata": {},
   "outputs": [],
   "source": [
    "train_loader_256 = ModelNet40(dataset_path=modelnet40_path, test=TEST, sample_size=SAMPLE_SIZE, sampling=SAMPLING_METHOD)"
   ]
  },
  {
   "cell_type": "markdown",
   "id": "ff626054-1437-400c-81bf-ca6b0e45ef7f",
   "metadata": {},
   "source": [
    "### Creating the model"
   ]
  },
  {
   "cell_type": "code",
   "execution_count": 182,
   "id": "4f398ece-6412-4067-91d3-e1af0be889ee",
   "metadata": {},
   "outputs": [],
   "source": [
    "in_features = 3\n",
    "feature_dim = 128\n",
    "out_features = 1024\n",
    "k_size = 128\n",
    "NUM_CLASSES = 40"
   ]
  },
  {
   "cell_type": "code",
   "execution_count": 183,
   "id": "3a6ac2b7-2638-4d0c-9b79-aeee1856f169",
   "metadata": {},
   "outputs": [],
   "source": [
    "model = PointCloudClassifier(in_features, feature_dim, out_features, k_size, NUM_CLASSES)"
   ]
  },
  {
   "cell_type": "markdown",
   "id": "721c0392-b4a0-4a7d-85a7-e6978fd980af",
   "metadata": {},
   "source": [
    "## Training specifications:"
   ]
  },
  {
   "cell_type": "markdown",
   "id": "3c211066-6cff-4040-bdf5-583d3fcf67d7",
   "metadata": {},
   "source": [
    "### Optimizer:"
   ]
  },
  {
   "cell_type": "code",
   "execution_count": 184,
   "id": "713b4b28-d8d2-48b5-b00a-e1d67f186299",
   "metadata": {},
   "outputs": [],
   "source": [
    "from torch.optim import SGD\n",
    "from torch.optim.lr_scheduler import CosineAnnealingLR\n",
    "\n",
    "parameters = model.parameters()\n",
    "learning_rate = 1e-3\n",
    "momentum = 0.9\n",
    "\n",
    "optimizer = SGD(parameters, lr=learning_rate, momentum=momentum)\n",
    "\n",
    "step = len(train_loader_256)\n",
    "scheduler = CosineAnnealingLR(optimizer, step)"
   ]
  },
  {
   "cell_type": "markdown",
   "id": "ad5585ab-b6ef-48fc-97c1-8fa08754d863",
   "metadata": {},
   "source": [
    "### Loss function:"
   ]
  },
  {
   "cell_type": "code",
   "execution_count": 185,
   "id": "da374d3e-30e2-418d-ae99-4e107e021dc7",
   "metadata": {},
   "outputs": [],
   "source": [
    "from torch.nn import CrossEntropyLoss\n",
    "from torch.nn import NLLLoss\n",
    "\n",
    "criterion = CrossEntropyLoss()\n",
    "criterion = NLLLoss()"
   ]
  },
  {
   "cell_type": "markdown",
   "id": "3e139802-c399-4b1f-96fb-1314ffa73597",
   "metadata": {},
   "source": [
    "## Overfitting the model"
   ]
  },
  {
   "cell_type": "code",
   "execution_count": 186,
   "id": "a8911d63-9f2f-46a1-9c04-6e8bb8915054",
   "metadata": {},
   "outputs": [],
   "source": [
    "from train import train\n",
    "epochs = 15\n",
    "loss = train(model=model, optimizer=optimizer,\n",
    "          scheduler=scheduler, train_loader=[train_loader_256[0]],\n",
    "          criterion=criterion, epochs=epochs, verbose=False)"
   ]
  },
  {
   "cell_type": "code",
   "execution_count": 187,
   "id": "207be539-3b92-4a2a-8c53-b97afd52c68b",
   "metadata": {},
   "outputs": [
    {
     "data": {
      "text/plain": [
       "[<matplotlib.lines.Line2D at 0x1781d5a0370>]"
      ]
     },
     "execution_count": 187,
     "metadata": {},
     "output_type": "execute_result"
    },
    {
     "data": {
      "image/png": "[encoded data removed]",
      "text/plain": [
       "<Figure size 432x288 with 1 Axes>"
      ]
     },
     "metadata": {
      "needs_background": "light"
     },
     "output_type": "display_data"
    }
   ],
   "source": [
    "import matplotlib.pyplot as plt\n",
    "plt.plot(loss)"
   ]
  },
  {
   "cell_type": "code",
   "execution_count": 188,
   "id": "e74fe24b-5f29-4d3a-a356-f35cb0a50cf7",
   "metadata": {},
   "outputs": [
    {
     "data": {
      "text/plain": [
       "True"
      ]
     },
     "execution_count": 188,
     "metadata": {},
     "output_type": "execute_result"
    }
   ],
   "source": [
    "x_test = model(train_loader_256[0][0].float())\n",
    "(torch.argmax(x_test) == train_loader_256[0][1]).item()"
   ]
  },
  {
   "cell_type": "code",
   "execution_count": 189,
   "id": "f947e81c-2a1a-44ff-acd4-8143b0355de4",
   "metadata": {},
   "outputs": [
    {
     "data": {
      "text/plain": [
       "tensor([1.0000e+00, 5.3686e-19, 1.6859e-19, 5.1463e-19, 4.4758e-19, 2.8069e-19,\n",
       "        9.6447e-19, 6.2525e-19, 1.3275e-18, 1.7581e-18, 6.2278e-19, 4.6126e-19,\n",
       "        4.7079e-19, 5.7306e-19, 4.8260e-19, 9.2585e-19, 4.1898e-19, 1.2032e-18,\n",
       "        7.6376e-19, 9.0208e-19, 1.6990e-19, 1.1246e-18, 2.4128e-19, 7.9381e-19,\n",
       "        6.4870e-19, 7.1640e-19, 7.9166e-19, 1.0715e-18, 3.8974e-19, 7.5858e-19,\n",
       "        5.2848e-19, 3.0911e-19, 6.4687e-19, 5.8307e-19, 5.3651e-19, 5.6048e-19,\n",
       "        1.1769e-18, 1.1258e-18, 1.3308e-18, 3.5123e-19],\n",
       "       grad_fn=<SoftmaxBackward0>)"
      ]
     },
     "execution_count": 189,
     "metadata": {},
     "output_type": "execute_result"
    }
   ],
   "source": [
    "x_test"
   ]
  },
  {
   "cell_type": "markdown",
   "id": "f3e2fafd-e27d-43bd-9953-cee9bd40e789",
   "metadata": {},
   "source": [
    "## Training the model"
   ]
  },
  {
   "cell_type": "code",
   "execution_count": 190,
   "id": "6d058287-2980-4b3b-b02f-e79355a80873",
   "metadata": {},
   "outputs": [],
   "source": [
    "model = PointCloudClassifier(in_features, feature_dim, out_features, k_size, NUM_CLASSES)"
   ]
  },
  {
   "cell_type": "markdown",
   "id": "80349887-8e01-4476-8be9-c9703fc61993",
   "metadata": {},
   "source": [
    "### DataLoader"
   ]
  },
  {
   "cell_type": "code",
   "execution_count": 191,
   "id": "b601ba28-e9d3-46d5-af48-3f12cabbff25",
   "metadata": {},
   "outputs": [],
   "source": [
    "SAMPLE_SIZE = 256\n",
    "TEST = False\n",
    "SAMPLING_METHOD = 'fps'\n",
    "\n",
    "model_net_256 = ModelNet40(dataset_path=modelnet40_path, test=TEST, sample_size=SAMPLE_SIZE, sampling=SAMPLING_METHOD)"
   ]
  },
  {
   "cell_type": "code",
   "execution_count": 192,
   "id": "19b362b1-2cc4-4ab5-a42b-e2fc7d143b4f",
   "metadata": {},
   "outputs": [],
   "source": [
    "batch_size = 32"
   ]
  },
  {
   "cell_type": "code",
   "execution_count": 193,
   "id": "9b1bbee6-7a01-4ffa-aff9-10d5615290c5",
   "metadata": {},
   "outputs": [],
   "source": [
    "from torch.utils.data import DataLoader\n",
    "\n",
    "train_loader = DataLoader(model_net_256, batch_size=batch_size, shuffle=True, collate_fn=collate_fn)"
   ]
  },
  {
   "cell_type": "markdown",
   "id": "2fa38d8c-6bc6-43fe-8d94-9941518219ad",
   "metadata": {},
   "source": [
    "### Optimizer:"
   ]
  },
  {
   "cell_type": "code",
   "execution_count": 194,
   "id": "41e684be-c344-46b5-b4ad-31e93b7df4a4",
   "metadata": {},
   "outputs": [],
   "source": [
    "from torch.optim import SGD\n",
    "from torch.optim.lr_scheduler import CosineAnnealingLR\n",
    "\n",
    "parameters = model.parameters()\n",
    "learning_rate = 1e-4\n",
    "momentum = 0.9\n",
    "\n",
    "optimizer = SGD(parameters, lr=learning_rate, momentum=momentum)\n",
    "\n",
    "step = len(train_loader_256)\n",
    "scheduler = CosineAnnealingLR(optimizer, step)"
   ]
  },
  {
   "cell_type": "markdown",
   "id": "bbb744c7-55d3-455f-9a4b-426ab7cbd284",
   "metadata": {},
   "source": [
    "### Loss function:"
   ]
  },
  {
   "cell_type": "code",
   "execution_count": 195,
   "id": "8c81a31d-2d3d-4fe5-bda5-d57e8f69ddfe",
   "metadata": {},
   "outputs": [],
   "source": [
    "from torch.nn import CrossEntropyLoss\n",
    "from torch.nn import NLLLoss\n",
    "\n",
    "criterion = CrossEntropyLoss()\n",
    "criterion = NLLLoss()"
   ]
  },
  {
   "cell_type": "code",
   "execution_count": null,
   "id": "dec6e47a-6ffe-48bd-b529-c482d5d48d95",
   "metadata": {},
   "outputs": [],
   "source": [
    "epochs = 25\n",
    "loss = train(model=model, optimizer=optimizer,\n",
    "          scheduler=scheduler, train_loader=train_loader_256,\n",
    "          criterion=criterion, epochs=epochs, verbose=False)"
   ]
  }
 ],
 "metadata": {
  "kernelspec": {
   "display_name": "Python 3 (ipykernel)",
   "language": "python",
   "name": "python3"
  },
  "language_info": {
   "codemirror_mode": {
    "name": "ipython",
    "version": 3
   },
   "file_extension": ".py",
   "mimetype": "text/x-python",
   "name": "python",
   "nbconvert_exporter": "python",
   "pygments_lexer": "ipython3",
   "version": "3.9.7"
  }
 },
 "nbformat": 4,
 "nbformat_minor": 5
}
