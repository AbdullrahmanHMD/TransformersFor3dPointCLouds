{
 "cells": [
  {
   "cell_type": "code",
   "execution_count": 1,
   "id": "a38287e1",
   "metadata": {},
   "outputs": [],
   "source": [
    "%load_ext autoreload\n",
    "%autoreload 2"
   ]
  },
  {
   "cell_type": "code",
   "execution_count": 18,
   "id": "e4979db6",
   "metadata": {},
   "outputs": [],
   "source": [
    "from data.dataset import ModelNet40, collate_fn\n",
    "import os\n",
    "import numpy as np\n",
    "\n",
    "from utils import *\n",
    "from model import *\n",
    "from torch.utils.data import DataLoader"
   ]
  },
  {
   "cell_type": "code",
   "execution_count": 4,
   "id": "435b41b0",
   "metadata": {},
   "outputs": [
    {
     "data": {
      "text/plain": [
       "'cuda'"
      ]
     },
     "execution_count": 4,
     "metadata": {},
     "output_type": "execute_result"
    }
   ],
   "source": [
    "device = 'cpu'\n",
    "if torch.cuda.is_available():\n",
    "    device = 'cuda'\n",
    "device"
   ]
  },
  {
   "cell_type": "markdown",
   "id": "6ce38ab7",
   "metadata": {},
   "source": [
    "### Getting the dataset path"
   ]
  },
  {
   "cell_type": "code",
   "execution_count": 5,
   "id": "255505db",
   "metadata": {},
   "outputs": [
    {
     "name": "stdout",
     "output_type": "stream",
     "text": [
      "/scratch/users/ahamadeh18/COMP390/ModelNet40\n"
     ]
    }
   ],
   "source": [
    "os.chdir('..')\n",
    "modelnet40_path = os.path.join(os.getcwd(), 'ModelNet40')\n",
    "os.chdir('TransformersFor3dPointCLouds')\n",
    "print(modelnet40_path)"
   ]
  },
  {
   "cell_type": "markdown",
   "id": "4cf8e127",
   "metadata": {},
   "source": [
    "### Initalizing the training set DataLoader object"
   ]
  },
  {
   "cell_type": "code",
   "execution_count": 7,
   "id": "514172f5",
   "metadata": {},
   "outputs": [],
   "source": [
    "SAMPLE_SIZE = 128\n",
    "TEST = False\n",
    "SAMPLING_METHOD = 'fps'"
   ]
  },
  {
   "cell_type": "code",
   "execution_count": 8,
   "id": "8d495aa8",
   "metadata": {},
   "outputs": [],
   "source": [
    "model_net40 = ModelNet40(dataset_path=modelnet40_path, test=TEST, sample_size=SAMPLE_SIZE, sampling=SAMPLING_METHOD)"
   ]
  },
  {
   "cell_type": "markdown",
   "id": "ca72db85",
   "metadata": {},
   "source": [
    "### Creating the model"
   ]
  },
  {
   "cell_type": "code",
   "execution_count": 9,
   "id": "8f605faf",
   "metadata": {},
   "outputs": [],
   "source": [
    "in_features = 3\n",
    "feature_dim = 128\n",
    "out_features = 1024\n",
    "k_size = 4\n",
    "NUM_CLASSES = 40"
   ]
  },
  {
   "cell_type": "code",
   "execution_count": 10,
   "id": "fbccfaeb",
   "metadata": {},
   "outputs": [],
   "source": [
    "model = PointCloudClassifier(in_features, feature_dim, out_features, k_size, NUM_CLASSES)"
   ]
  },
  {
   "cell_type": "markdown",
   "id": "508e18d7",
   "metadata": {},
   "source": [
    "## Training specifications:"
   ]
  },
  {
   "cell_type": "markdown",
   "id": "411ab2fb",
   "metadata": {},
   "source": [
    "### Optimizer:"
   ]
  },
  {
   "cell_type": "code",
   "execution_count": 11,
   "id": "f1e65b94",
   "metadata": {},
   "outputs": [],
   "source": [
    "from torch.optim import SGD\n",
    "from torch.optim.lr_scheduler import CosineAnnealingLR\n",
    "\n",
    "parameters = model.parameters()\n",
    "learning_rate = 1e-3\n",
    "momentum = 0.9\n",
    "\n",
    "optimizer = SGD(parameters, lr=learning_rate, momentum=momentum)\n",
    "\n",
    "step = len(model_net40)\n",
    "scheduler = CosineAnnealingLR(optimizer, step)"
   ]
  },
  {
   "cell_type": "markdown",
   "id": "9464d4f1",
   "metadata": {},
   "source": [
    "### Loss function:"
   ]
  },
  {
   "cell_type": "code",
   "execution_count": 12,
   "id": "0abb42ba",
   "metadata": {},
   "outputs": [],
   "source": [
    "from torch.nn import CrossEntropyLoss\n",
    "from torch.nn import NLLLoss\n",
    "\n",
    "class_weights =  torch.tensor(model_net40.class_weights).float()\n",
    "criterion = CrossEntropyLoss(weight=class_weights)\n",
    "# criterion = NLLLoss()"
   ]
  },
  {
   "cell_type": "code",
   "execution_count": 27,
   "id": "92cffa69",
   "metadata": {},
   "outputs": [],
   "source": [
    "overfitting_data = []\n",
    "for i in range(20):\n",
    "    overfitting_data.append(model_net40[i])\n",
    "overfitting_loader = DataLoader(overfitting_data)"
   ]
  },
  {
   "cell_type": "markdown",
   "id": "36a9397b",
   "metadata": {},
   "source": [
    "## Overfitting the model"
   ]
  },
  {
   "cell_type": "code",
   "execution_count": 30,
   "id": "6d2a50b8",
   "metadata": {},
   "outputs": [
    {
     "name": "stderr",
     "output_type": "stream",
     "text": [
      "  0%|          | 0/20 [00:00<?, ?it/s]\n"
     ]
    },
    {
     "ename": "RuntimeError",
     "evalue": "t() expects a tensor with <= 2 dimensions, but self is 3D",
     "output_type": "error",
     "traceback": [
      "\u001b[0;31m---------------------------------------------------------------------------\u001b[0m",
      "\u001b[0;31mRuntimeError\u001b[0m                              Traceback (most recent call last)",
      "\u001b[0;32m/tmp/ipykernel_214362/1648876592.py\u001b[0m in \u001b[0;36m<module>\u001b[0;34m\u001b[0m\n\u001b[1;32m      3\u001b[0m loss = train(model=model, optimizer=optimizer,\n\u001b[1;32m      4\u001b[0m           \u001b[0mscheduler\u001b[0m\u001b[0;34m=\u001b[0m\u001b[0mscheduler\u001b[0m\u001b[0;34m,\u001b[0m \u001b[0mtrain_loader\u001b[0m\u001b[0;34m=\u001b[0m\u001b[0moverfitting_loader\u001b[0m\u001b[0;34m,\u001b[0m\u001b[0;34m\u001b[0m\u001b[0m\n\u001b[0;32m----> 5\u001b[0;31m           criterion=criterion, epochs=epochs, verbose=False)\n\u001b[0m",
      "\u001b[0;32m/scratch/users/ahamadeh18/COMP390/TransformersFor3dPointCLouds/train.py\u001b[0m in \u001b[0;36mtrain\u001b[0;34m(model, optimizer, scheduler, train_loader, criterion, epochs, save_params, verbose, load_model)\u001b[0m\n\u001b[1;32m     41\u001b[0m             \u001b[0my\u001b[0m\u001b[0;34m.\u001b[0m\u001b[0mto\u001b[0m\u001b[0;34m(\u001b[0m\u001b[0mdevice\u001b[0m\u001b[0;34m=\u001b[0m\u001b[0mdevice\u001b[0m\u001b[0;34m)\u001b[0m\u001b[0;34m\u001b[0m\u001b[0m\n\u001b[1;32m     42\u001b[0m \u001b[0;34m\u001b[0m\u001b[0m\n\u001b[0;32m---> 43\u001b[0;31m             \u001b[0myhat\u001b[0m \u001b[0;34m=\u001b[0m \u001b[0mmodel\u001b[0m\u001b[0;34m(\u001b[0m\u001b[0mx\u001b[0m\u001b[0;34m.\u001b[0m\u001b[0mfloat\u001b[0m\u001b[0;34m(\u001b[0m\u001b[0;34m)\u001b[0m\u001b[0;34m)\u001b[0m\u001b[0;34m\u001b[0m\u001b[0m\n\u001b[0m\u001b[1;32m     44\u001b[0m \u001b[0;34m\u001b[0m\u001b[0m\n\u001b[1;32m     45\u001b[0m             \u001b[0mloss\u001b[0m \u001b[0;34m=\u001b[0m \u001b[0mcriterion\u001b[0m\u001b[0;34m(\u001b[0m\u001b[0myhat\u001b[0m\u001b[0;34m,\u001b[0m \u001b[0my\u001b[0m\u001b[0;34m)\u001b[0m\u001b[0;34m\u001b[0m\u001b[0m\n",
      "\u001b[0;32m~/.local/lib/python3.7/site-packages/torch/nn/modules/module.py\u001b[0m in \u001b[0;36m_call_impl\u001b[0;34m(self, *input, **kwargs)\u001b[0m\n\u001b[1;32m   1108\u001b[0m         if not (self._backward_hooks or self._forward_hooks or self._forward_pre_hooks or _global_backward_hooks\n\u001b[1;32m   1109\u001b[0m                 or _global_forward_hooks or _global_forward_pre_hooks):\n\u001b[0;32m-> 1110\u001b[0;31m             \u001b[0;32mreturn\u001b[0m \u001b[0mforward_call\u001b[0m\u001b[0;34m(\u001b[0m\u001b[0;34m*\u001b[0m\u001b[0minput\u001b[0m\u001b[0;34m,\u001b[0m \u001b[0;34m**\u001b[0m\u001b[0mkwargs\u001b[0m\u001b[0;34m)\u001b[0m\u001b[0;34m\u001b[0m\u001b[0m\n\u001b[0m\u001b[1;32m   1111\u001b[0m         \u001b[0;31m# Do not call functions when jit is used\u001b[0m\u001b[0;34m\u001b[0m\u001b[0;34m\u001b[0m\u001b[0m\n\u001b[1;32m   1112\u001b[0m         \u001b[0mfull_backward_hooks\u001b[0m\u001b[0;34m,\u001b[0m \u001b[0mnon_full_backward_hooks\u001b[0m \u001b[0;34m=\u001b[0m \u001b[0;34m[\u001b[0m\u001b[0;34m]\u001b[0m\u001b[0;34m,\u001b[0m \u001b[0;34m[\u001b[0m\u001b[0;34m]\u001b[0m\u001b[0;34m\u001b[0m\u001b[0m\n",
      "\u001b[0;32m/scratch/users/ahamadeh18/COMP390/TransformersFor3dPointCLouds/model.py\u001b[0m in \u001b[0;36mforward\u001b[0;34m(self, x)\u001b[0m\n\u001b[1;32m     93\u001b[0m     \u001b[0;32mdef\u001b[0m \u001b[0mforward\u001b[0m\u001b[0;34m(\u001b[0m\u001b[0mself\u001b[0m\u001b[0;34m,\u001b[0m \u001b[0mx\u001b[0m\u001b[0;34m)\u001b[0m\u001b[0;34m:\u001b[0m\u001b[0;34m\u001b[0m\u001b[0m\n\u001b[1;32m     94\u001b[0m \u001b[0;34m\u001b[0m\u001b[0m\n\u001b[0;32m---> 95\u001b[0;31m         \u001b[0mx\u001b[0m \u001b[0;34m=\u001b[0m \u001b[0mself\u001b[0m\u001b[0;34m.\u001b[0m\u001b[0mencoder\u001b[0m\u001b[0;34m(\u001b[0m\u001b[0mx\u001b[0m\u001b[0;34m)\u001b[0m\u001b[0;34m\u001b[0m\u001b[0m\n\u001b[0m\u001b[1;32m     96\u001b[0m         \u001b[0mmax_pool_out\u001b[0m \u001b[0;34m=\u001b[0m \u001b[0mself\u001b[0m\u001b[0;34m.\u001b[0m\u001b[0mmax_pool\u001b[0m\u001b[0;34m(\u001b[0m\u001b[0mx\u001b[0m\u001b[0;34m)\u001b[0m\u001b[0;34m\u001b[0m\u001b[0m\n\u001b[1;32m     97\u001b[0m         \u001b[0mavg_pool_out\u001b[0m \u001b[0;34m=\u001b[0m \u001b[0mself\u001b[0m\u001b[0;34m.\u001b[0m\u001b[0mavg_pool\u001b[0m\u001b[0;34m(\u001b[0m\u001b[0mx\u001b[0m\u001b[0;34m)\u001b[0m\u001b[0;34m\u001b[0m\u001b[0m\n",
      "\u001b[0;32m~/.local/lib/python3.7/site-packages/torch/nn/modules/module.py\u001b[0m in \u001b[0;36m_call_impl\u001b[0;34m(self, *input, **kwargs)\u001b[0m\n\u001b[1;32m   1108\u001b[0m         if not (self._backward_hooks or self._forward_hooks or self._forward_pre_hooks or _global_backward_hooks\n\u001b[1;32m   1109\u001b[0m                 or _global_forward_hooks or _global_forward_pre_hooks):\n\u001b[0;32m-> 1110\u001b[0;31m             \u001b[0;32mreturn\u001b[0m \u001b[0mforward_call\u001b[0m\u001b[0;34m(\u001b[0m\u001b[0;34m*\u001b[0m\u001b[0minput\u001b[0m\u001b[0;34m,\u001b[0m \u001b[0;34m**\u001b[0m\u001b[0mkwargs\u001b[0m\u001b[0;34m)\u001b[0m\u001b[0;34m\u001b[0m\u001b[0m\n\u001b[0m\u001b[1;32m   1111\u001b[0m         \u001b[0;31m# Do not call functions when jit is used\u001b[0m\u001b[0;34m\u001b[0m\u001b[0;34m\u001b[0m\u001b[0m\n\u001b[1;32m   1112\u001b[0m         \u001b[0mfull_backward_hooks\u001b[0m\u001b[0;34m,\u001b[0m \u001b[0mnon_full_backward_hooks\u001b[0m \u001b[0;34m=\u001b[0m \u001b[0;34m[\u001b[0m\u001b[0;34m]\u001b[0m\u001b[0;34m,\u001b[0m \u001b[0;34m[\u001b[0m\u001b[0;34m]\u001b[0m\u001b[0;34m\u001b[0m\u001b[0m\n",
      "\u001b[0;32m/scratch/users/ahamadeh18/COMP390/TransformersFor3dPointCLouds/model.py\u001b[0m in \u001b[0;36mforward\u001b[0;34m(self, x)\u001b[0m\n\u001b[1;32m     64\u001b[0m \u001b[0;34m\u001b[0m\u001b[0m\n\u001b[1;32m     65\u001b[0m         \u001b[0mx\u001b[0m \u001b[0;34m=\u001b[0m \u001b[0mself\u001b[0m\u001b[0;34m.\u001b[0m\u001b[0membedding\u001b[0m\u001b[0;34m(\u001b[0m\u001b[0mx\u001b[0m\u001b[0;34m)\u001b[0m\u001b[0;34m\u001b[0m\u001b[0m\n\u001b[0;32m---> 66\u001b[0;31m         \u001b[0matten_1\u001b[0m \u001b[0;34m=\u001b[0m \u001b[0mself\u001b[0m\u001b[0;34m.\u001b[0m\u001b[0mattention\u001b[0m\u001b[0;34m(\u001b[0m\u001b[0mx\u001b[0m\u001b[0;34m)\u001b[0m\u001b[0;34m\u001b[0m\u001b[0m\n\u001b[0m\u001b[1;32m     67\u001b[0m         \u001b[0matten_2\u001b[0m \u001b[0;34m=\u001b[0m \u001b[0mself\u001b[0m\u001b[0;34m.\u001b[0m\u001b[0mattention\u001b[0m\u001b[0;34m(\u001b[0m\u001b[0matten_1\u001b[0m\u001b[0;34m)\u001b[0m\u001b[0;34m\u001b[0m\u001b[0m\n\u001b[1;32m     68\u001b[0m         \u001b[0matten_3\u001b[0m \u001b[0;34m=\u001b[0m \u001b[0mself\u001b[0m\u001b[0;34m.\u001b[0m\u001b[0mattention\u001b[0m\u001b[0;34m(\u001b[0m\u001b[0matten_2\u001b[0m\u001b[0;34m)\u001b[0m\u001b[0;34m\u001b[0m\u001b[0m\n",
      "\u001b[0;32m~/.local/lib/python3.7/site-packages/torch/nn/modules/module.py\u001b[0m in \u001b[0;36m_call_impl\u001b[0;34m(self, *input, **kwargs)\u001b[0m\n\u001b[1;32m   1108\u001b[0m         if not (self._backward_hooks or self._forward_hooks or self._forward_pre_hooks or _global_backward_hooks\n\u001b[1;32m   1109\u001b[0m                 or _global_forward_hooks or _global_forward_pre_hooks):\n\u001b[0;32m-> 1110\u001b[0;31m             \u001b[0;32mreturn\u001b[0m \u001b[0mforward_call\u001b[0m\u001b[0;34m(\u001b[0m\u001b[0;34m*\u001b[0m\u001b[0minput\u001b[0m\u001b[0;34m,\u001b[0m \u001b[0;34m**\u001b[0m\u001b[0mkwargs\u001b[0m\u001b[0;34m)\u001b[0m\u001b[0;34m\u001b[0m\u001b[0m\n\u001b[0m\u001b[1;32m   1111\u001b[0m         \u001b[0;31m# Do not call functions when jit is used\u001b[0m\u001b[0;34m\u001b[0m\u001b[0;34m\u001b[0m\u001b[0m\n\u001b[1;32m   1112\u001b[0m         \u001b[0mfull_backward_hooks\u001b[0m\u001b[0;34m,\u001b[0m \u001b[0mnon_full_backward_hooks\u001b[0m \u001b[0;34m=\u001b[0m \u001b[0;34m[\u001b[0m\u001b[0;34m]\u001b[0m\u001b[0;34m,\u001b[0m \u001b[0;34m[\u001b[0m\u001b[0;34m]\u001b[0m\u001b[0;34m\u001b[0m\u001b[0m\n",
      "\u001b[0;32m/scratch/users/ahamadeh18/COMP390/TransformersFor3dPointCLouds/model.py\u001b[0m in \u001b[0;36mforward\u001b[0;34m(self, x)\u001b[0m\n\u001b[1;32m     41\u001b[0m         \u001b[0mQ\u001b[0m\u001b[0;34m,\u001b[0m \u001b[0mK\u001b[0m\u001b[0;34m,\u001b[0m \u001b[0mV\u001b[0m \u001b[0;34m=\u001b[0m \u001b[0mself\u001b[0m\u001b[0;34m.\u001b[0m\u001b[0mW_Q\u001b[0m\u001b[0;34m(\u001b[0m\u001b[0mx\u001b[0m\u001b[0;34m)\u001b[0m\u001b[0;34m,\u001b[0m \u001b[0mself\u001b[0m\u001b[0;34m.\u001b[0m\u001b[0mW_K\u001b[0m\u001b[0;34m(\u001b[0m\u001b[0mx\u001b[0m\u001b[0;34m)\u001b[0m\u001b[0;34m,\u001b[0m \u001b[0mself\u001b[0m\u001b[0;34m.\u001b[0m\u001b[0mW_V\u001b[0m\u001b[0;34m(\u001b[0m\u001b[0mx\u001b[0m\u001b[0;34m)\u001b[0m\u001b[0;34m\u001b[0m\u001b[0m\n\u001b[1;32m     42\u001b[0m \u001b[0;34m\u001b[0m\u001b[0m\n\u001b[0;32m---> 43\u001b[0;31m         \u001b[0mallignment\u001b[0m \u001b[0;34m=\u001b[0m \u001b[0mself\u001b[0m\u001b[0;34m.\u001b[0m\u001b[0msoftmax\u001b[0m\u001b[0;34m(\u001b[0m\u001b[0mtorch\u001b[0m\u001b[0;34m.\u001b[0m\u001b[0mmm\u001b[0m\u001b[0;34m(\u001b[0m\u001b[0mQ\u001b[0m\u001b[0;34m,\u001b[0m \u001b[0mtorch\u001b[0m\u001b[0;34m.\u001b[0m\u001b[0mt\u001b[0m\u001b[0;34m(\u001b[0m\u001b[0mK\u001b[0m\u001b[0;34m)\u001b[0m\u001b[0;34m)\u001b[0m \u001b[0;34m/\u001b[0m \u001b[0;34m(\u001b[0m\u001b[0mself\u001b[0m\u001b[0;34m.\u001b[0m\u001b[0mmodel_dim\u001b[0m \u001b[0;34m**\u001b[0m \u001b[0;36m0.5\u001b[0m\u001b[0;34m)\u001b[0m\u001b[0;34m)\u001b[0m\u001b[0;34m\u001b[0m\u001b[0m\n\u001b[0m\u001b[1;32m     44\u001b[0m         \u001b[0matten\u001b[0m \u001b[0;34m=\u001b[0m \u001b[0mtorch\u001b[0m\u001b[0;34m.\u001b[0m\u001b[0mmm\u001b[0m\u001b[0;34m(\u001b[0m \u001b[0mallignment\u001b[0m\u001b[0;34m,\u001b[0m \u001b[0mV\u001b[0m\u001b[0;34m)\u001b[0m\u001b[0;34m\u001b[0m\u001b[0m\n\u001b[1;32m     45\u001b[0m         \u001b[0matten\u001b[0m \u001b[0;34m=\u001b[0m \u001b[0mself\u001b[0m\u001b[0;34m.\u001b[0m\u001b[0mW_O\u001b[0m\u001b[0;34m(\u001b[0m\u001b[0matten\u001b[0m\u001b[0;34m)\u001b[0m\u001b[0;34m\u001b[0m\u001b[0m\n",
      "\u001b[0;31mRuntimeError\u001b[0m: t() expects a tensor with <= 2 dimensions, but self is 3D"
     ]
    }
   ],
   "source": [
    "from train import train\n",
    "epochs = 15\n",
    "loss = train(model=model, optimizer=optimizer,\n",
    "          scheduler=scheduler, train_loader=overfitting_loader,\n",
    "          criterion=criterion, epochs=epochs, verbose=False)"
   ]
  },
  {
   "cell_type": "markdown",
   "id": "fc02427b",
   "metadata": {},
   "source": [
    "### Plotting the loss:"
   ]
  },
  {
   "cell_type": "code",
   "execution_count": 28,
   "id": "87796ae0",
   "metadata": {},
   "outputs": [
    {
     "data": {
      "text/plain": [
       "[<matplotlib.lines.Line2D at 0x2b0262ff7710>]"
      ]
     },
     "execution_count": 28,
     "metadata": {},
     "output_type": "execute_result"
    },
    {
     "data": {
      "image/png": "[encoded data removed]",
      "text/plain": [
       "<Figure size 432x288 with 1 Axes>"
      ]
     },
     "metadata": {
      "needs_background": "light"
     },
     "output_type": "display_data"
    }
   ],
   "source": [
    "import matplotlib.pyplot as plt\n",
    "plt.plot(loss)"
   ]
  },
  {
   "cell_type": "code",
   "execution_count": 30,
   "id": "a33e1bfc",
   "metadata": {},
   "outputs": [
    {
     "data": {
      "text/plain": [
       "True"
      ]
     },
     "execution_count": 30,
     "metadata": {},
     "output_type": "execute_result"
    }
   ],
   "source": [
    "x_test = model(model_net40[0][0].float())\n",
    "(torch.argmax(x_test) == model_net40[0][1]).item()"
   ]
  },
  {
   "cell_type": "code",
   "execution_count": 31,
   "id": "02450136",
   "metadata": {},
   "outputs": [
    {
     "data": {
      "text/plain": [
       "tensor([46.0388, -0.1911, -1.2720, -0.5212, -1.1767, -1.7760, -1.1018, -1.4636,\n",
       "        -0.6017, -0.4255, -1.2653, -1.4788, -0.7948, -1.6204, -1.0603, -1.0340,\n",
       "        -1.2143, -0.8255, -1.5459, -1.4086,  0.1541, -1.1079, -1.7431, -0.3271,\n",
       "        -1.8796, -1.3339, -1.5646, -0.3407, -1.3065, -0.4129, -1.1565, -0.8027,\n",
       "        -0.9239, -1.6641, -1.1740, -1.9464, -1.5179, -0.6686, -1.0703, -1.2988],\n",
       "       grad_fn=<AddBackward0>)"
      ]
     },
     "execution_count": 31,
     "metadata": {},
     "output_type": "execute_result"
    }
   ],
   "source": [
    "x_test"
   ]
  },
  {
   "cell_type": "code",
   "execution_count": 39,
   "id": "1c9fad15",
   "metadata": {},
   "outputs": [
    {
     "name": "stdout",
     "output_type": "stream",
     "text": [
      "tensor([1.0000e+00, 8.3673e-21, 2.8389e-21, 6.0151e-21, 3.1229e-21, 1.7150e-21,\n",
      "        3.3658e-21, 2.3441e-21, 5.5498e-21, 6.6193e-21, 2.8580e-21, 2.3086e-21,\n",
      "        4.5752e-21, 2.0039e-21, 3.5083e-21, 3.6019e-21, 3.0076e-21, 4.4369e-21,\n",
      "        2.1588e-21, 2.4764e-21, 1.1818e-20, 3.3454e-21, 1.7724e-21, 7.3036e-21,\n",
      "        1.5462e-21, 2.6687e-21, 2.1187e-21, 7.2045e-21, 2.7427e-21, 6.7033e-21,\n",
      "        3.1866e-21, 4.5392e-21, 4.0209e-21, 1.9182e-21, 3.1314e-21, 1.4463e-21,\n",
      "        2.2201e-21, 5.1906e-21, 3.4735e-21, 2.7640e-21],\n",
      "       grad_fn=<SoftmaxBackward0>)\n"
     ]
    }
   ],
   "source": [
    "print(torch.nn.Softmax(dim=0)(x_test))"
   ]
  },
  {
   "cell_type": "markdown",
   "id": "0a644fc3",
   "metadata": {},
   "source": [
    "## Training the model"
   ]
  },
  {
   "cell_type": "code",
   "execution_count": 40,
   "id": "2c099ef3",
   "metadata": {},
   "outputs": [],
   "source": [
    "model = PointCloudClassifier(in_features, feature_dim, out_features, k_size, NUM_CLASSES)"
   ]
  },
  {
   "cell_type": "markdown",
   "id": "0163d1ca",
   "metadata": {},
   "source": [
    "### DataLoader"
   ]
  },
  {
   "cell_type": "code",
   "execution_count": 41,
   "id": "1a83844b",
   "metadata": {},
   "outputs": [],
   "source": [
    "SAMPLE_SIZE = 128\n",
    "TEST = False\n",
    "SAMPLING_METHOD = 'fps'\n",
    "\n",
    "model_net40 = ModelNet40(dataset_path=modelnet40_path, test=TEST, sample_size=SAMPLE_SIZE, sampling=SAMPLING_METHOD)"
   ]
  },
  {
   "cell_type": "code",
   "execution_count": 42,
   "id": "f0daabc6",
   "metadata": {},
   "outputs": [],
   "source": [
    "batch_size = 32"
   ]
  },
  {
   "cell_type": "code",
   "execution_count": 43,
   "id": "5cd58f01",
   "metadata": {},
   "outputs": [],
   "source": [
    "from torch.utils.data import DataLoader\n",
    "\n",
    "train_loader = DataLoader(model_net40, batch_size=batch_size, shuffle=True, collate_fn=collate_fn)"
   ]
  },
  {
   "cell_type": "markdown",
   "id": "bc6a0009",
   "metadata": {},
   "source": [
    "### Optimizer:"
   ]
  },
  {
   "cell_type": "code",
   "execution_count": 44,
   "id": "4a47a7bd",
   "metadata": {},
   "outputs": [],
   "source": [
    "from torch.optim import SGD\n",
    "from torch.optim.lr_scheduler import CosineAnnealingLR\n",
    "\n",
    "parameters = model.parameters()\n",
    "learning_rate = 1e-4\n",
    "momentum = 0.9\n",
    "\n",
    "optimizer = SGD(parameters, lr=learning_rate, momentum=momentum)\n",
    "\n",
    "step = len(model_net40)\n",
    "scheduler = CosineAnnealingLR(optimizer, step)"
   ]
  },
  {
   "cell_type": "markdown",
   "id": "3a5b9dbb",
   "metadata": {},
   "source": [
    "### Loss function:"
   ]
  },
  {
   "cell_type": "code",
   "execution_count": 53,
   "id": "804720a1",
   "metadata": {},
   "outputs": [],
   "source": [
    "from torch.nn import CrossEntropyLoss\n",
    "from torch.nn import NLLLoss\n",
    "\n",
    "class_weights =  torch.tensor(model_net40.class_weights).float()\n",
    "criterion = CrossEntropyLoss(weight=class_weights)"
   ]
  },
  {
   "cell_type": "code",
   "execution_count": null,
   "id": "c5ce61b2",
   "metadata": {},
   "outputs": [
    {
     "name": "stderr",
     "output_type": "stream",
     "text": [
      "100%|██████████| 9843/9843 [1:41:44<00:00,  1.61it/s]  \n"
     ]
    },
    {
     "name": "stdout",
     "output_type": "stream",
     "text": [
      "epoch: 0 | loss: 12083.202962384292\n",
      "Epoch time: 6104.91911649704\n"
     ]
    },
    {
     "name": "stderr",
     "output_type": "stream",
     "text": [
      "100%|██████████| 9843/9843 [2:59:17<00:00,  1.09s/it]   \n"
     ]
    },
    {
     "name": "stdout",
     "output_type": "stream",
     "text": [
      "epoch: 1 | loss: 15915.664114731015\n",
      "Epoch time: 10757.768959760666\n"
     ]
    },
    {
     "name": "stderr",
     "output_type": "stream",
     "text": [
      " 22%|██▏       | 2210/9843 [08:14<2:40:27,  1.26s/it]"
     ]
    }
   ],
   "source": [
    "epochs = 5\n",
    "loss = train(model=model, optimizer=optimizer,\n",
    "          scheduler=scheduler, train_loader=model_net40,\n",
    "          criterion=criterion, epochs=epochs, save_params=True, verbose=False, load_model=True)"
   ]
  },
  {
   "cell_type": "markdown",
   "id": "0673a684",
   "metadata": {},
   "source": [
    "## Model Evaluation:"
   ]
  },
  {
   "cell_type": "markdown",
   "id": "7bbbe2e6",
   "metadata": {},
   "source": [
    "### Loading the test set:"
   ]
  },
  {
   "cell_type": "code",
   "execution_count": null,
   "id": "cf7fda7b",
   "metadata": {},
   "outputs": [],
   "source": [
    "SAMPLE_SIZE = 128\n",
    "TEST = True\n",
    "SAMPLING_METHOD = 'fps'\n",
    "batch_size = 1\n",
    "\n",
    "model_net_256_test = ModelNet40(dataset_path=modelnet40_path, test=TEST, sample_size=SAMPLE_SIZE, sampling=SAMPLING_METHOD)\n",
    "test_laoder = DataLoader(model_net_256_test, batch_size=batch_size, shuffle=True, collate_fn=collate_fn)"
   ]
  },
  {
   "cell_type": "code",
   "execution_count": null,
   "id": "22d2806f",
   "metadata": {},
   "outputs": [],
   "source": [
    "from eval import evaluate"
   ]
  },
  {
   "cell_type": "code",
   "execution_count": null,
   "id": "0077ad86",
   "metadata": {},
   "outputs": [],
   "source": [
    "evaluate(model, model_net_256_test, epochs, verbose=True)"
   ]
  },
  {
   "cell_type": "code",
   "execution_count": 121,
   "id": "982b5384",
   "metadata": {},
   "outputs": [],
   "source": [
    "data, label, _ = model_net_256_test[0]"
   ]
  },
  {
   "cell_type": "code",
   "execution_count": 122,
   "id": "4cb41350",
   "metadata": {},
   "outputs": [
    {
     "name": "stdout",
     "output_type": "stream",
     "text": [
      "tensor(0)\n",
      "True\n"
     ]
    }
   ],
   "source": [
    "yhat = model(data.float())\n",
    "print(label)\n",
    "print((torch.argmax(yhat) == label).item())"
   ]
  },
  {
   "cell_type": "code",
   "execution_count": 123,
   "id": "9b3b5e0a",
   "metadata": {},
   "outputs": [],
   "source": [
    "accuracy = 0\n",
    "N = len(model_net_256_test)\n",
    "model.eval()\n",
    "for point in model_net_256_test:\n",
    "    if point == None:\n",
    "        N -= 1\n",
    "        continue\n",
    "    x, y, _ = point\n",
    "    yhat = model(x.float())\n",
    "    \n",
    "    if (torch.argmax(yhat) == y).item():\n",
    "        accuracy += 1"
   ]
  },
  {
   "cell_type": "code",
   "execution_count": 124,
   "id": "3ff98ef8",
   "metadata": {},
   "outputs": [],
   "source": [
    "acc = accuracy / N"
   ]
  },
  {
   "cell_type": "code",
   "execution_count": 125,
   "id": "2b345950",
   "metadata": {},
   "outputs": [
    {
     "data": {
      "text/plain": [
       "0.0078060805258833195"
      ]
     },
     "execution_count": 125,
     "metadata": {},
     "output_type": "execute_result"
    }
   ],
   "source": [
    "acc"
   ]
  }
 ],
 "metadata": {
  "kernelspec": {
   "display_name": "pc_transformer",
   "language": "python",
   "name": "pc_transformer"
  },
  "language_info": {
   "codemirror_mode": {
    "name": "ipython",
    "version": 3
   },
   "file_extension": ".py",
   "mimetype": "text/x-python",
   "name": "python",
   "nbconvert_exporter": "python",
   "pygments_lexer": "ipython3",
   "version": "3.7.0"
  }
 },
 "nbformat": 4,
 "nbformat_minor": 5
}
