{
 "cells": [
  {
   "cell_type": "code",
   "execution_count": 1,
   "id": "53871728",
   "metadata": {},
   "outputs": [],
   "source": [
    "%load_ext autoreload\n",
    "%autoreload 2"
   ]
  },
  {
   "cell_type": "code",
   "execution_count": 2,
   "id": "f3f67f00",
   "metadata": {},
   "outputs": [],
   "source": [
    "from data.dataset_normalized import NormalizedModelNet40\n",
    "import os\n",
    "import numpy as np\n",
    "\n",
    "from utils import *\n",
    "from model3 import Encoder\n",
    "from torch.utils.data import DataLoader, Subset\n",
    "import torch\n",
    "from evaluate import *\n",
    "from train import train"
   ]
  },
  {
   "cell_type": "code",
   "execution_count": 3,
   "id": "3bd2e75f",
   "metadata": {
    "scrolled": true
   },
   "outputs": [
    {
     "name": "stdout",
     "output_type": "stream",
     "text": [
      "Tesla V100-SXM2-32GB\n"
     ]
    },
    {
     "data": {
      "text/plain": [
       "'cuda'"
      ]
     },
     "execution_count": 3,
     "metadata": {},
     "output_type": "execute_result"
    }
   ],
   "source": [
    "device = 'cpu'\n",
    "if torch.cuda.is_available():\n",
    "    device = 'cuda'\n",
    "    print(torch.cuda.get_device_name(0))\n",
    "device"
   ]
  },
  {
   "cell_type": "markdown",
   "id": "47c5cb20",
   "metadata": {},
   "source": [
    "### Getting the dataset path"
   ]
  },
  {
   "cell_type": "code",
   "execution_count": 4,
   "id": "6e1a19d1",
   "metadata": {
    "scrolled": true
   },
   "outputs": [
    {
     "name": "stdout",
     "output_type": "stream",
     "text": [
      "/scratch/users/ahamadeh18/COMP390/modelnet40_ply_hdf5_2048\n"
     ]
    }
   ],
   "source": [
    "dataset_name = \"modelnet40_ply_hdf5_2048\"\n",
    "\n",
    "os.chdir('..')\n",
    "modelnet40_path = os.path.join(os.getcwd(), dataset_name)\n",
    "os.chdir('TransformersFor3dPointCLouds')\n",
    "print(modelnet40_path)"
   ]
  },
  {
   "cell_type": "markdown",
   "id": "92389397",
   "metadata": {},
   "source": [
    "### Dataset path when training locally"
   ]
  },
  {
   "cell_type": "code",
   "execution_count": 5,
   "id": "7c7ced58",
   "metadata": {},
   "outputs": [],
   "source": [
    "# dataset_path = os.path.join(os.getcwd(), os.path.join(\"data\", \"dataset_path.txt\"))\n",
    "# with open(dataset_path, 'r') as file:\n",
    "#     modelnet40_path = file.readline()\n",
    "# modelnet40_path = modelnet40_path.split('\\n')[0]\n",
    "# modelnet40_path"
   ]
  },
  {
   "cell_type": "markdown",
   "id": "7144b622",
   "metadata": {},
   "source": [
    "# Overfitting experiment"
   ]
  },
  {
   "cell_type": "markdown",
   "id": "63989725",
   "metadata": {},
   "source": [
    "### Initalizing the training set DataLoader object"
   ]
  },
  {
   "cell_type": "code",
   "execution_count": 11,
   "id": "09bb5a0a",
   "metadata": {},
   "outputs": [],
   "source": [
    "SAMPLE_SIZE = 256\n",
    "partition = 'train'\n",
    "SAMPLING_METHOD = 'fps'\n",
    "batch_size = 10"
   ]
  },
  {
   "cell_type": "code",
   "execution_count": 12,
   "id": "1a5786d1",
   "metadata": {},
   "outputs": [],
   "source": [
    "dataset = NormalizedModelNet40(dataset_path=modelnet40_path, partition=partition,\n",
    "                               sample_size=SAMPLE_SIZE, sampling_method=SAMPLING_METHOD)"
   ]
  },
  {
   "cell_type": "code",
   "execution_count": 13,
   "id": "59702b4f",
   "metadata": {},
   "outputs": [],
   "source": [
    "class_ind_dist = dataset.class_indicies_distribution()"
   ]
  },
  {
   "cell_type": "code",
   "execution_count": 14,
   "id": "40979ef3",
   "metadata": {},
   "outputs": [],
   "source": [
    "overfit_classes_num = 1\n",
    "OVERFITTING_SAMPLE_SIZE = 10\n",
    "overfitting_set = []\n",
    "for i in range(overfit_classes_num):\n",
    "    overfitting_set += class_ind_dist[i][:OVERFITTING_SAMPLE_SIZE]"
   ]
  },
  {
   "cell_type": "code",
   "execution_count": 15,
   "id": "8e09d20f",
   "metadata": {},
   "outputs": [],
   "source": [
    "overfitting_subset = Subset(dataset, overfitting_set)\n",
    "overfitting_loader = DataLoader(overfitting_subset, batch_size=batch_size, shuffle=True)"
   ]
  },
  {
   "cell_type": "markdown",
   "id": "1d6ffdee",
   "metadata": {},
   "source": [
    "## Overfitting the model"
   ]
  },
  {
   "cell_type": "code",
   "execution_count": 16,
   "id": "e9f3a82b",
   "metadata": {},
   "outputs": [],
   "source": [
    "from torch.nn import CrossEntropyLoss\n",
    "from torch.nn import NLLLoss\n",
    "\n",
    "criterion = CrossEntropyLoss().to(device)"
   ]
  },
  {
   "cell_type": "markdown",
   "id": "f25d9dbb",
   "metadata": {},
   "source": [
    "# Trying the new model:"
   ]
  },
  {
   "cell_type": "code",
   "execution_count": 17,
   "id": "3a3fcda9",
   "metadata": {},
   "outputs": [],
   "source": [
    "input_dims = 3\n",
    "embed_dim = 256\n",
    "out_dims = 8\n",
    "num_layers = 6\n",
    "num_heads = 1\n",
    "num_classes = 40\n",
    "dropout = 0.0"
   ]
  },
  {
   "cell_type": "code",
   "execution_count": 18,
   "id": "7087bf8a",
   "metadata": {
    "scrolled": true
   },
   "outputs": [],
   "source": [
    "model = Encoder(input_size=SAMPLE_SIZE, input_dims=input_dims, embed_dim=embed_dim, \n",
    "                out_dims=out_dims, num_layers=num_layers, num_heads=num_heads,\n",
    "                num_classes=num_classes, dropout=dropout).to(device)"
   ]
  },
  {
   "cell_type": "code",
   "execution_count": 19,
   "id": "e9afee88",
   "metadata": {},
   "outputs": [
    {
     "data": {
      "text/plain": [
       "<torch.autograd.anomaly_mode.set_detect_anomaly at 0x1948697d688>"
      ]
     },
     "execution_count": 19,
     "metadata": {},
     "output_type": "execute_result"
    }
   ],
   "source": [
    "torch.autograd.set_detect_anomaly(True)"
   ]
  },
  {
   "cell_type": "code",
   "execution_count": 20,
   "id": "b7673a75",
   "metadata": {},
   "outputs": [],
   "source": [
    "from torch.optim import SGD, Adam\n",
    "from torch.optim.lr_scheduler import CosineAnnealingLR, StepLR\n",
    "\n",
    "parameters = model.parameters()\n",
    "learning_rate = 1e-4\n",
    "weight_decay = 1e-1\n",
    "momentum = 0.9\n",
    "\n",
    "# optimizer = SGD(parameters, lr=learning_rate, momentum=momentum)\n",
    "optimizer = Adam(parameters, lr=learning_rate, amsgrad=True)\n",
    "epochs = 10\n",
    "scheduler = StepLR(optimizer=optimizer, step_size=epochs // 4, gamma=0.8)"
   ]
  },
  {
   "cell_type": "code",
   "execution_count": 21,
   "id": "eaa76df6",
   "metadata": {
    "scrolled": true
   },
   "outputs": [
    {
     "name": "stdout",
     "output_type": "stream",
     "text": [
      "Current device: cuda\n"
     ]
    },
    {
     "name": "stderr",
     "output_type": "stream",
     "text": [
      "100%|██████████| 1/1 [00:02<00:00,  2.00s/it]"
     ]
    },
    {
     "name": "stdout",
     "output_type": "stream",
     "text": [
      "Evaluating epoch...\n"
     ]
    },
    {
     "name": "stderr",
     "output_type": "stream",
     "text": [
      "\n",
      "C:\\Users\\abooo\\anaconda3\\envs\\comp411\\lib\\site-packages\\torch\\optim\\lr_scheduler.py:154: UserWarning: The epoch parameter in `scheduler.step()` was not necessary and is being deprecated where possible. Please use `scheduler.step()` to step the scheduler. During the deprecation, if epoch is different from None, the closed form is used instead of the new chainable form, where available. Please open an issue if you are unable to replicate your use case: https://github.com/pytorch/pytorch/issues/new/choose.\n",
      "  warnings.warn(EPOCH_DEPRECATION_WARNING, UserWarning)\n",
      "100%|██████████| 1/1 [00:00<00:00,  2.02it/s]\n"
     ]
    },
    {
     "name": "stdout",
     "output_type": "stream",
     "text": [
      "Epoch: 0 | Loss: 3.27 | Train accuracy: 0.0 | Validation Accuracy: 100.0| Runtime: 2.51 seconds\n"
     ]
    },
    {
     "name": "stderr",
     "output_type": "stream",
     "text": [
      "100%|██████████| 1/1 [00:00<00:00,  1.69it/s]"
     ]
    },
    {
     "name": "stdout",
     "output_type": "stream",
     "text": [
      "Evaluating epoch...\n"
     ]
    },
    {
     "name": "stderr",
     "output_type": "stream",
     "text": [
      "\n",
      "100%|██████████| 1/1 [00:00<00:00,  2.03it/s]\n"
     ]
    },
    {
     "name": "stdout",
     "output_type": "stream",
     "text": [
      "Epoch: 1 | Loss: 0.00 | Train accuracy: 100.0 | Validation Accuracy: 100.0| Runtime: 1.09 seconds\n"
     ]
    },
    {
     "name": "stderr",
     "output_type": "stream",
     "text": [
      "100%|██████████| 1/1 [00:00<00:00,  1.68it/s]"
     ]
    },
    {
     "name": "stdout",
     "output_type": "stream",
     "text": [
      "Evaluating epoch...\n"
     ]
    },
    {
     "name": "stderr",
     "output_type": "stream",
     "text": [
      "\n",
      "100%|██████████| 1/1 [00:00<00:00,  2.04it/s]\n"
     ]
    },
    {
     "name": "stdout",
     "output_type": "stream",
     "text": [
      "Epoch: 2 | Loss: 0.00 | Train accuracy: 100.0 | Validation Accuracy: 100.0| Runtime: 1.09 seconds\n"
     ]
    },
    {
     "name": "stderr",
     "output_type": "stream",
     "text": [
      "100%|██████████| 1/1 [00:00<00:00,  1.69it/s]"
     ]
    },
    {
     "name": "stdout",
     "output_type": "stream",
     "text": [
      "Evaluating epoch...\n"
     ]
    },
    {
     "name": "stderr",
     "output_type": "stream",
     "text": [
      "\n",
      "100%|██████████| 1/1 [00:00<00:00,  2.05it/s]\n"
     ]
    },
    {
     "name": "stdout",
     "output_type": "stream",
     "text": [
      "Epoch: 3 | Loss: 0.00 | Train accuracy: 100.0 | Validation Accuracy: 100.0| Runtime: 1.09 seconds\n"
     ]
    },
    {
     "name": "stderr",
     "output_type": "stream",
     "text": [
      "100%|██████████| 1/1 [00:00<00:00,  1.67it/s]"
     ]
    },
    {
     "name": "stdout",
     "output_type": "stream",
     "text": [
      "Evaluating epoch...\n"
     ]
    },
    {
     "name": "stderr",
     "output_type": "stream",
     "text": [
      "\n",
      "100%|██████████| 1/1 [00:00<00:00,  2.05it/s]\n"
     ]
    },
    {
     "name": "stdout",
     "output_type": "stream",
     "text": [
      "Epoch: 4 | Loss: 0.00 | Train accuracy: 100.0 | Validation Accuracy: 100.0| Runtime: 1.09 seconds\n"
     ]
    },
    {
     "name": "stderr",
     "output_type": "stream",
     "text": [
      "100%|██████████| 1/1 [00:00<00:00,  1.67it/s]"
     ]
    },
    {
     "name": "stdout",
     "output_type": "stream",
     "text": [
      "Evaluating epoch...\n"
     ]
    },
    {
     "name": "stderr",
     "output_type": "stream",
     "text": [
      "\n",
      "100%|██████████| 1/1 [00:00<00:00,  2.05it/s]\n"
     ]
    },
    {
     "name": "stdout",
     "output_type": "stream",
     "text": [
      "Epoch: 5 | Loss: 0.00 | Train accuracy: 100.0 | Validation Accuracy: 100.0| Runtime: 1.09 seconds\n"
     ]
    },
    {
     "name": "stderr",
     "output_type": "stream",
     "text": [
      "100%|██████████| 1/1 [00:00<00:00,  1.68it/s]"
     ]
    },
    {
     "name": "stdout",
     "output_type": "stream",
     "text": [
      "Evaluating epoch...\n"
     ]
    },
    {
     "name": "stderr",
     "output_type": "stream",
     "text": [
      "\n",
      "100%|██████████| 1/1 [00:00<00:00,  2.06it/s]\n"
     ]
    },
    {
     "name": "stdout",
     "output_type": "stream",
     "text": [
      "Epoch: 6 | Loss: 0.00 | Train accuracy: 100.0 | Validation Accuracy: 100.0| Runtime: 1.09 seconds\n"
     ]
    },
    {
     "name": "stderr",
     "output_type": "stream",
     "text": [
      "100%|██████████| 1/1 [00:00<00:00,  1.68it/s]"
     ]
    },
    {
     "name": "stdout",
     "output_type": "stream",
     "text": [
      "Evaluating epoch...\n"
     ]
    },
    {
     "name": "stderr",
     "output_type": "stream",
     "text": [
      "\n",
      "100%|██████████| 1/1 [00:00<00:00,  2.05it/s]\n"
     ]
    },
    {
     "name": "stdout",
     "output_type": "stream",
     "text": [
      "Epoch: 7 | Loss: 0.00 | Train accuracy: 100.0 | Validation Accuracy: 100.0| Runtime: 1.09 seconds\n"
     ]
    },
    {
     "name": "stderr",
     "output_type": "stream",
     "text": [
      "100%|██████████| 1/1 [00:00<00:00,  1.67it/s]"
     ]
    },
    {
     "name": "stdout",
     "output_type": "stream",
     "text": [
      "Evaluating epoch...\n"
     ]
    },
    {
     "name": "stderr",
     "output_type": "stream",
     "text": [
      "\n",
      "100%|██████████| 1/1 [00:00<00:00,  2.06it/s]\n"
     ]
    },
    {
     "name": "stdout",
     "output_type": "stream",
     "text": [
      "Epoch: 8 | Loss: 0.00 | Train accuracy: 100.0 | Validation Accuracy: 100.0| Runtime: 1.09 seconds\n"
     ]
    },
    {
     "name": "stderr",
     "output_type": "stream",
     "text": [
      "100%|██████████| 1/1 [00:00<00:00,  1.67it/s]"
     ]
    },
    {
     "name": "stdout",
     "output_type": "stream",
     "text": [
      "Evaluating epoch...\n"
     ]
    },
    {
     "name": "stderr",
     "output_type": "stream",
     "text": [
      "\n",
      "100%|██████████| 1/1 [00:00<00:00,  1.95it/s]"
     ]
    },
    {
     "name": "stdout",
     "output_type": "stream",
     "text": [
      "Epoch: 9 | Loss: 0.00 | Train accuracy: 100.0 | Validation Accuracy: 100.0| Runtime: 1.12 seconds\n"
     ]
    },
    {
     "name": "stderr",
     "output_type": "stream",
     "text": [
      "\n"
     ]
    }
   ],
   "source": [
    "# scheduler = None\n",
    "loss,_,_,_ = train(model=model, optimizer=optimizer,\n",
    "          scheduler=scheduler, train_loader=overfitting_loader, \n",
    "             validation_loader=overfitting_loader,\n",
    "          criterion=criterion, epochs=epochs, verbose=False)"
   ]
  },
  {
   "cell_type": "code",
   "execution_count": 22,
   "id": "aaa90fa7",
   "metadata": {},
   "outputs": [
    {
     "data": {
      "text/plain": [
       "[<matplotlib.lines.Line2D at 0x194bc5abb08>]"
      ]
     },
     "execution_count": 22,
     "metadata": {},
     "output_type": "execute_result"
    },
    {
     "data": {
      "image/png": "[encoded data removed]",
      "text/plain": [
       "<Figure size 432x288 with 1 Axes>"
      ]
     },
     "metadata": {
      "needs_background": "light"
     },
     "output_type": "display_data"
    }
   ],
   "source": [
    "import matplotlib.pyplot as plt\n",
    "plt.plot(loss)"
   ]
  },
  {
   "cell_type": "code",
   "execution_count": 23,
   "id": "e10ee172",
   "metadata": {},
   "outputs": [
    {
     "name": "stderr",
     "output_type": "stream",
     "text": [
      "100%|██████████| 1/1 [00:00<00:00,  1.82it/s]\n"
     ]
    }
   ],
   "source": [
    "accuracy = eval_2(model, overfitting_loader)"
   ]
  },
  {
   "cell_type": "code",
   "execution_count": 24,
   "id": "185cb516",
   "metadata": {},
   "outputs": [
    {
     "name": "stdout",
     "output_type": "stream",
     "text": [
      "100.0%\n"
     ]
    }
   ],
   "source": [
    "print(f'Overfitting accuracy: {accuracy}%') "
   ]
  },
  {
   "cell_type": "markdown",
   "id": "5b3e168c",
   "metadata": {},
   "source": [
    "# End of trying the new model"
   ]
  },
  {
   "cell_type": "markdown",
   "id": "dfc83b75",
   "metadata": {},
   "source": [
    "# Start training the actual model"
   ]
  },
  {
   "cell_type": "markdown",
   "id": "94506228",
   "metadata": {},
   "source": [
    "### Defining the dataset and splitting it:"
   ]
  },
  {
   "cell_type": "code",
   "execution_count": 5,
   "id": "08aa1c4c",
   "metadata": {},
   "outputs": [],
   "source": [
    "SAMPLE_SIZE = 512\n",
    "SAMPLING_METHOD = 'fps'\n",
    "batch_size = 128"
   ]
  },
  {
   "cell_type": "code",
   "execution_count": 6,
   "id": "cfdb83b5",
   "metadata": {},
   "outputs": [],
   "source": [
    "train_dataset = NormalizedModelNet40(dataset_path=modelnet40_path, partition='train',\n",
    "                               sample_size=SAMPLE_SIZE, sampling_method=SAMPLING_METHOD)\n",
    "\n",
    "test_dataset = NormalizedModelNet40(dataset_path=modelnet40_path, partition='test',\n",
    "                               sample_size=SAMPLE_SIZE, sampling_method=SAMPLING_METHOD)"
   ]
  },
  {
   "cell_type": "code",
   "execution_count": 7,
   "id": "5dd1c9e2",
   "metadata": {},
   "outputs": [],
   "source": [
    "train_portion = 0.9\n",
    "\n",
    "N = len(train_dataset)\n",
    "\n",
    "n_train = int(N * 0.9)\n",
    "n_validation = N - n_train"
   ]
  },
  {
   "cell_type": "code",
   "execution_count": 8,
   "id": "522c84b6",
   "metadata": {},
   "outputs": [],
   "source": [
    "train_set, validation_set = torch.utils.data.random_split(train_dataset, [n_train , n_validation])\n",
    "\n",
    "train_loader = DataLoader(dataset=train_set, batch_size=batch_size)\n",
    "validation_loader = DataLoader(dataset=validation_set, batch_size=batch_size)\n",
    "test_loader = DataLoader(dataset=test_dataset, batch_size=batch_size)"
   ]
  },
  {
   "cell_type": "markdown",
   "id": "08822699",
   "metadata": {},
   "source": [
    "### Creating the model:"
   ]
  },
  {
   "cell_type": "code",
   "execution_count": 9,
   "id": "3dd45ec8",
   "metadata": {},
   "outputs": [],
   "source": [
    "input_dims = 3\n",
    "embed_dim = 256\n",
    "out_dims = 8\n",
    "num_layers = 6\n",
    "num_heads = 1\n",
    "num_classes = 40\n",
    "dropout = 0.5"
   ]
  },
  {
   "cell_type": "code",
   "execution_count": 10,
   "id": "18f4f3e5",
   "metadata": {},
   "outputs": [],
   "source": [
    "model = Encoder(input_size=SAMPLE_SIZE, input_dims=input_dims, embed_dim=embed_dim, \n",
    "                out_dims=out_dims, num_layers=num_layers, num_heads=num_heads,\n",
    "                num_classes=num_classes, dropout=dropout).to(device)"
   ]
  },
  {
   "cell_type": "markdown",
   "id": "157d43e9",
   "metadata": {},
   "source": [
    "### Optimizer:"
   ]
  },
  {
   "cell_type": "code",
   "execution_count": 11,
   "id": "883ad7c0",
   "metadata": {},
   "outputs": [],
   "source": [
    "from torch.optim import SGD\n",
    "from torch.optim.lr_scheduler import CosineAnnealingLR, ReduceLROnPlateau\n",
    "\n",
    "parameters = model.parameters()\n",
    "learning_rate = 1e-4\n",
    "momentum = 0.9\n",
    "weight_decay = 1e-5\n",
    "\n",
    "optimizer = SGD(parameters, lr=learning_rate, momentum=momentum)\n",
    "scheduler = ReduceLROnPlateau(optimizer, factor=0.1, patience=3, verbose=True)"
   ]
  },
  {
   "cell_type": "markdown",
   "id": "e83e44fd",
   "metadata": {},
   "source": [
    "### Loss function:"
   ]
  },
  {
   "cell_type": "code",
   "execution_count": 12,
   "id": "05bc0237",
   "metadata": {},
   "outputs": [],
   "source": [
    "from torch.nn import CrossEntropyLoss\n",
    "\n",
    "class_weights = torch.tensor(train_dataset.calculate_class_weights()).float().to(device=device)\n",
    "criterion = CrossEntropyLoss(weight=class_weights).to(device=device)"
   ]
  },
  {
   "cell_type": "code",
   "execution_count": null,
   "id": "0adddcdc",
   "metadata": {
    "scrolled": true
   },
   "outputs": [
    {
     "name": "stdout",
     "output_type": "stream",
     "text": [
      "Current device: cuda\n"
     ]
    },
    {
     "name": "stderr",
     "output_type": "stream",
     "text": [
      "100%|██████████| 70/70 [07:43<00:00,  6.63s/it]"
     ]
    },
    {
     "name": "stdout",
     "output_type": "stream",
     "text": [
      "Evaluating epoch...\n"
     ]
    },
    {
     "name": "stderr",
     "output_type": "stream",
     "text": [
      "\n",
      "100%|██████████| 8/8 [00:49<00:00,  6.14s/it]\n"
     ]
    },
    {
     "name": "stdout",
     "output_type": "stream",
     "text": [
      "Epoch: 0 | Loss: 237.18 | Train acc: 17.01 | Val acc: 23.44 | lr: 0.0001 | Runtime: 513.01 seconds\n"
     ]
    },
    {
     "name": "stderr",
     "output_type": "stream",
     "text": [
      " 26%|██▌       | 18/70 [01:59<05:43,  6.61s/it]"
     ]
    }
   ],
   "source": [
    "epochs = 150\n",
    "loss, runtime, train_acc, validation_acc = train(model=model, optimizer=optimizer,\n",
    "                                    scheduler=scheduler, train_loader=train_loader,\n",
    "                                    validation_loader=validation_loader, criterion=criterion,\n",
    "                                    epochs=epochs, verbose=False)"
   ]
  },
  {
   "cell_type": "markdown",
   "id": "17ee6ee6",
   "metadata": {},
   "source": [
    "### Average epoch time:"
   ]
  },
  {
   "cell_type": "code",
   "execution_count": null,
   "id": "1fcc3d05",
   "metadata": {},
   "outputs": [],
   "source": [
    "runtime = np.array(runtime)\n",
    "print(f'Average epoch runtime: {np.mean(runtime / 60):.2f} mins')"
   ]
  },
  {
   "cell_type": "code",
   "execution_count": null,
   "id": "3e300222",
   "metadata": {},
   "outputs": [],
   "source": [
    "runtime_ = np.sum(runtime)\n",
    "print(f'Total runtime: {runtime / 60:.2f} mins | {runtime / 3600:.2f} hours')"
   ]
  },
  {
   "cell_type": "markdown",
   "id": "29342085",
   "metadata": {},
   "source": [
    "### Plotting the loss:"
   ]
  },
  {
   "cell_type": "code",
   "execution_count": null,
   "id": "0cc43514",
   "metadata": {
    "scrolled": true
   },
   "outputs": [],
   "source": [
    "import matplotlib.pyplot as plt\n",
    "from matplotlib.pyplot import figure\n",
    "plt.title(\"Loss\") \n",
    "plt.xlabel(\"Epoch\")\n",
    "plt.ylabel(\"Loss\")\n",
    "plt.plot(loss)"
   ]
  },
  {
   "cell_type": "code",
   "execution_count": null,
   "id": "edc3e775",
   "metadata": {},
   "outputs": [],
   "source": [
    "figure(figsize=(10, 4), dpi=80)\n",
    "\n",
    "plt.title(\"Accuracy\") \n",
    "plt.plot(train_acc)\n",
    "plt.plot(validation_acc)\n",
    "\n",
    "plt.scatter(list(range(epochs)), train_acc)\n",
    "plt.scatter(list(range(epochs)), validation_acc)\n",
    "\n",
    "plt.xlabel(\"Epoch\")\n",
    "plt.ylabel(\"Accuracy\")\n",
    "plt.legend([\"Train Accuracy\", \"Validation Accuracy\"], loc =\"lower right\")\n",
    "plt.show()"
   ]
  },
  {
   "cell_type": "code",
   "execution_count": null,
   "id": "ded6f4c3",
   "metadata": {},
   "outputs": [],
   "source": [
    "accuracy = eval_2(model, test_loader)"
   ]
  },
  {
   "cell_type": "code",
   "execution_count": null,
   "id": "d29a71ae",
   "metadata": {},
   "outputs": [],
   "source": [
    "print(f'{accuracy:.2f}%')"
   ]
  },
  {
   "cell_type": "markdown",
   "id": "ee026ff0",
   "metadata": {},
   "source": [
    "### Saving the model:"
   ]
  },
  {
   "cell_type": "code",
   "execution_count": 20,
   "id": "8cf3c37a",
   "metadata": {},
   "outputs": [],
   "source": [
    "import utils\n",
    "model_path = os.path.join(os.getcwd(), \"model\")\n",
    "utils.save_model(model, model_path)"
   ]
  },
  {
   "cell_type": "markdown",
   "id": "8b71bd05",
   "metadata": {},
   "source": [
    "### Load the model:"
   ]
  },
  {
   "cell_type": "code",
   "execution_count": 21,
   "id": "234cbc1e",
   "metadata": {},
   "outputs": [],
   "source": [
    "# model_state_dict = utils.load_model_state_dict(model_path)\n",
    "# model = model.load_state_dict(model_state_dict)"
   ]
  },
  {
   "cell_type": "markdown",
   "id": "49e1160f",
   "metadata": {},
   "source": [
    "## Class accuracy:"
   ]
  },
  {
   "cell_type": "code",
   "execution_count": null,
   "id": "ad2686cc",
   "metadata": {
    "scrolled": true
   },
   "outputs": [],
   "source": [
    "nb_classes = 40\n",
    "\n",
    "confusion_matrix = torch.zeros(nb_classes, nb_classes)\n",
    "with torch.no_grad():\n",
    "    for i, (inputs, classes, _) in tqdm(enumerate(test_loader)):\n",
    "        inputs = inputs.to(device)\n",
    "        classes = classes.to(device)\n",
    "        outputs = model(inputs.float())\n",
    "        _, preds = torch.max(outputs, 1)\n",
    "        for t, p in zip(classes.view(-1), preds.view(-1)):\n",
    "                confusion_matrix[t.long(), p.long()] += 1\n"
   ]
  },
  {
   "cell_type": "code",
   "execution_count": null,
   "id": "5ff0a102",
   "metadata": {},
   "outputs": [],
   "source": [
    "class_accuracies = confusion_matrix.diag()/confusion_matrix.sum(1)\n",
    "class_acc_dict = dict(zip(train_dataset.CLASSES, class_accuracies.tolist()))\n",
    "class_acc_dict"
   ]
  },
  {
   "cell_type": "code",
   "execution_count": null,
   "id": "316ac048",
   "metadata": {},
   "outputs": [],
   "source": [
    "figure(figsize=(15, 4), dpi=80)\n",
    "plt.title('Class accuracies')\n",
    "y = class_accuracies.tolist()\n",
    "x = test_dataset.CLASSES\n",
    "plt.bar(x, y, color='b')\n",
    "plt.xticks(x, x, rotation=90)\n",
    "plt.show()"
   ]
  },
  {
   "cell_type": "code",
   "execution_count": null,
   "id": "228fd9e9",
   "metadata": {},
   "outputs": [],
   "source": [
    "all_labels = np.concatenate((train_dataset.labels, test_dataset.labels))"
   ]
  },
  {
   "cell_type": "code",
   "execution_count": null,
   "id": "24ad8b90",
   "metadata": {},
   "outputs": [],
   "source": [
    "figure(figsize=(15, 4), dpi=80)\n",
    "y = np.bincount(all_labels)\n",
    "x = train_dataset.CLASSES\n",
    "\n",
    "plt.bar(x, y, color='b')\n",
    "plt.xticks(x, x, rotation=90)\n",
    "plt.show()"
   ]
  }
 ],
 "metadata": {
  "kernelspec": {
   "display_name": "Python 3",
   "language": "python",
   "name": "python3"
  },
  "language_info": {
   "codemirror_mode": {
    "name": "ipython",
    "version": 3
   },
   "file_extension": ".py",
   "mimetype": "text/x-python",
   "name": "python",
   "nbconvert_exporter": "python",
   "pygments_lexer": "ipython3",
   "version": "3.8.8"
  }
 },
 "nbformat": 4,
 "nbformat_minor": 5
}
